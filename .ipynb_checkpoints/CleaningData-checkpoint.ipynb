{
 "cells": [
  {
   "cell_type": "markdown",
   "metadata": {},
   "source": [
    "<center><img src=\"https://i.imgur.com/zRrFdsf.png\" width=\"700\"></center>"
   ]
  },
  {
   "cell_type": "markdown",
   "metadata": {},
   "source": [
    "# Data Cleaning\n",
    "\n",
    "\n",
    "Having data does not always allow you to produce some analytics right away. There is often a lot of pre processing to be done. \n",
    "\n",
    "This material is about **Cleaning**: making sure each cell has a value that could be used in your coming procedures. There are always some _impurities_ that do not allow the computer to recognize the data correctly, i.e. _commas_ instead of _periods_ and viceversa, the presence of unneeded _blanks_, irrelevant symbols (dollar, euro symbols), or non-standard symbols to represent missing values.\n",
    "\n",
    "I will use two approaches. The first one is the smart use of regular expressions (**regex**), and the second one a **divide and conquer** strategy."
   ]
  },
  {
   "cell_type": "markdown",
   "metadata": {},
   "source": [
    "# REGEX VERSUS DIVIDE AND CONQUER \n",
    "\n",
    "Imagine that you request the age people in an online form. Sometimes you run into answers with issues like these:\n",
    "\n",
    "- \"It is:24\"\n",
    "- \"It is: 44\"\n",
    "- \"It is54\"\n",
    "- \"64 it is\"\n",
    "- \"I am twenty\"\n",
    "- \"The 10th I turn 21\"\n",
    "- \"I am 15 years old\"\n",
    "- \"~20\""
   ]
  },
  {
   "cell_type": "markdown",
   "metadata": {},
   "source": [
    "From the above examples, you are interested in the _age_, nothing else. The first two cases are _relatively_ easy to solve with divide and conquer, as you see a character that helps:  "
   ]
  },
  {
   "cell_type": "code",
   "execution_count": 1,
   "metadata": {},
   "outputs": [
    {
     "data": {
      "text/plain": [
       "'24'"
      ]
     },
     "execution_count": 1,
     "metadata": {},
     "output_type": "execute_result"
    }
   ],
   "source": [
    "case1=\"It is:24\"\n",
    "case2=\"It is: 34\"\n",
    "# try 1\n",
    "case1.split(':')[1] #Parte en dos partes con el uno solo se queda con el numero"
   ]
  },
  {
   "cell_type": "code",
   "execution_count": 2,
   "metadata": {},
   "outputs": [
    {
     "data": {
      "text/plain": [
       "' 34'"
      ]
     },
     "execution_count": 2,
     "metadata": {},
     "output_type": "execute_result"
    }
   ],
   "source": [
    "#try 2:\n",
    "case2.split(':')[1]"
   ]
  },
  {
   "cell_type": "markdown",
   "metadata": {},
   "source": [
    "Split broke the string using \":\" and produced a _list_.  The number will be the second element. However, in _case2_ you got an extra space. You need to think about a general rule, so maybe this is better:"
   ]
  },
  {
   "cell_type": "code",
   "execution_count": 3,
   "metadata": {},
   "outputs": [
    {
     "data": {
      "text/plain": [
       "'24'"
      ]
     },
     "execution_count": 3,
     "metadata": {},
     "output_type": "execute_result"
    }
   ],
   "source": [
    "case1.split(':')[1].strip()"
   ]
  },
  {
   "cell_type": "code",
   "execution_count": 4,
   "metadata": {},
   "outputs": [
    {
     "data": {
      "text/plain": [
       "'34'"
      ]
     },
     "execution_count": 4,
     "metadata": {},
     "output_type": "execute_result"
    }
   ],
   "source": [
    "case2.split(':')[1].strip()"
   ]
  },
  {
   "cell_type": "markdown",
   "metadata": {},
   "source": [
    "Using _strip()_ gets rid of the spaces around the string.  Notice _strip()_ and _split()_ are functions in **base Python**. Pandas has its **own** functions. \n",
    "\n",
    "You can use the divide and conquer as long as every string you find follows the same pattern. Imagine those values make a column in a data frame:"
   ]
  },
  {
   "cell_type": "code",
   "execution_count": 5,
   "metadata": {},
   "outputs": [
    {
     "data": {
      "text/html": [
       "<div>\n",
       "<style scoped>\n",
       "    .dataframe tbody tr th:only-of-type {\n",
       "        vertical-align: middle;\n",
       "    }\n",
       "\n",
       "    .dataframe tbody tr th {\n",
       "        vertical-align: top;\n",
       "    }\n",
       "\n",
       "    .dataframe thead th {\n",
       "        text-align: right;\n",
       "    }\n",
       "</style>\n",
       "<table border=\"1\" class=\"dataframe\">\n",
       "  <thead>\n",
       "    <tr style=\"text-align: right;\">\n",
       "      <th></th>\n",
       "      <th>age</th>\n",
       "    </tr>\n",
       "  </thead>\n",
       "  <tbody>\n",
       "    <tr>\n",
       "      <th>0</th>\n",
       "      <td>It is:24</td>\n",
       "    </tr>\n",
       "    <tr>\n",
       "      <th>1</th>\n",
       "      <td>It is: 44</td>\n",
       "    </tr>\n",
       "    <tr>\n",
       "      <th>2</th>\n",
       "      <td>It is54</td>\n",
       "    </tr>\n",
       "    <tr>\n",
       "      <th>3</th>\n",
       "      <td>64 it is</td>\n",
       "    </tr>\n",
       "    <tr>\n",
       "      <th>4</th>\n",
       "      <td>I am twenty</td>\n",
       "    </tr>\n",
       "    <tr>\n",
       "      <th>5</th>\n",
       "      <td>The 10th I turn 21</td>\n",
       "    </tr>\n",
       "    <tr>\n",
       "      <th>6</th>\n",
       "      <td>I am 15 years old</td>\n",
       "    </tr>\n",
       "    <tr>\n",
       "      <th>7</th>\n",
       "      <td>~20</td>\n",
       "    </tr>\n",
       "  </tbody>\n",
       "</table>\n",
       "</div>"
      ],
      "text/plain": [
       "                  age\n",
       "0            It is:24\n",
       "1           It is: 44\n",
       "2             It is54\n",
       "3            64 it is\n",
       "4         I am twenty\n",
       "5  The 10th I turn 21\n",
       "6   I am 15 years old\n",
       "7                 ~20"
      ]
     },
     "execution_count": 5,
     "metadata": {},
     "output_type": "execute_result"
    }
   ],
   "source": [
    "import pandas as pd\n",
    "\n",
    "ages=[\"It is:24\",\"It is: 44\",\"It is54\",\n",
    "      \"64 it is\",\"I am twenty\",\"The 10th I turn 21\",\n",
    "      \"I am 15 years old\",\"~20\"]\n",
    "\n",
    "someData=pd.DataFrame({'age':ages})\n",
    "someData"
   ]
  },
  {
   "cell_type": "markdown",
   "metadata": {},
   "source": [
    "Now, let's use Pandas **own** strip and split:"
   ]
  },
  {
   "cell_type": "code",
   "execution_count": 6,
   "metadata": {},
   "outputs": [
    {
     "data": {
      "text/plain": [
       "0             [It is, 24]\n",
       "1            [It is,  44]\n",
       "2               [It is54]\n",
       "3              [64 it is]\n",
       "4           [I am twenty]\n",
       "5    [The 10th I turn 21]\n",
       "6     [I am 15 years old]\n",
       "7                   [~20]\n",
       "Name: age, dtype: object"
      ]
     },
     "execution_count": 6,
     "metadata": {},
     "output_type": "execute_result"
    }
   ],
   "source": [
    "someData.age.str.split(':')"
   ]
  },
  {
   "cell_type": "markdown",
   "metadata": {},
   "source": [
    "Or alternatively:"
   ]
  },
  {
   "cell_type": "code",
   "execution_count": 7,
   "metadata": {},
   "outputs": [
    {
     "data": {
      "text/html": [
       "<div>\n",
       "<style scoped>\n",
       "    .dataframe tbody tr th:only-of-type {\n",
       "        vertical-align: middle;\n",
       "    }\n",
       "\n",
       "    .dataframe tbody tr th {\n",
       "        vertical-align: top;\n",
       "    }\n",
       "\n",
       "    .dataframe thead th {\n",
       "        text-align: right;\n",
       "    }\n",
       "</style>\n",
       "<table border=\"1\" class=\"dataframe\">\n",
       "  <thead>\n",
       "    <tr style=\"text-align: right;\">\n",
       "      <th></th>\n",
       "      <th>0</th>\n",
       "      <th>1</th>\n",
       "    </tr>\n",
       "  </thead>\n",
       "  <tbody>\n",
       "    <tr>\n",
       "      <th>0</th>\n",
       "      <td>It is</td>\n",
       "      <td>24</td>\n",
       "    </tr>\n",
       "    <tr>\n",
       "      <th>1</th>\n",
       "      <td>It is</td>\n",
       "      <td>44</td>\n",
       "    </tr>\n",
       "    <tr>\n",
       "      <th>2</th>\n",
       "      <td>It is54</td>\n",
       "      <td>None</td>\n",
       "    </tr>\n",
       "    <tr>\n",
       "      <th>3</th>\n",
       "      <td>64 it is</td>\n",
       "      <td>None</td>\n",
       "    </tr>\n",
       "    <tr>\n",
       "      <th>4</th>\n",
       "      <td>I am twenty</td>\n",
       "      <td>None</td>\n",
       "    </tr>\n",
       "    <tr>\n",
       "      <th>5</th>\n",
       "      <td>The 10th I turn 21</td>\n",
       "      <td>None</td>\n",
       "    </tr>\n",
       "    <tr>\n",
       "      <th>6</th>\n",
       "      <td>I am 15 years old</td>\n",
       "      <td>None</td>\n",
       "    </tr>\n",
       "    <tr>\n",
       "      <th>7</th>\n",
       "      <td>~20</td>\n",
       "      <td>None</td>\n",
       "    </tr>\n",
       "  </tbody>\n",
       "</table>\n",
       "</div>"
      ],
      "text/plain": [
       "                    0     1\n",
       "0               It is    24\n",
       "1               It is    44\n",
       "2             It is54  None\n",
       "3            64 it is  None\n",
       "4         I am twenty  None\n",
       "5  The 10th I turn 21  None\n",
       "6   I am 15 years old  None\n",
       "7                 ~20  None"
      ]
     },
     "execution_count": 7,
     "metadata": {},
     "output_type": "execute_result"
    }
   ],
   "source": [
    "someData.age.str.split(':',expand=True)"
   ]
  },
  {
   "cell_type": "markdown",
   "metadata": {},
   "source": [
    "Notice the use of _expand_. This allows that each element in the list goes to a column. However, as there is **no consistent pattern** (location of the symbol \":\"), you do not get a good result. The situation requires the **REGEX** approach. \n",
    "\n",
    "Using regular expressions is a great way to go when there is no pattern to apply the previous strategy; however, it takes time to learn how to build a regular expression that will serve all your especific  needs in a particular situation.\n",
    "\n",
    "In general, you need to **explore** few *regex pattern*s before deciding what to use. I recommend using **contains()** for that:"
   ]
  },
  {
   "cell_type": "code",
   "execution_count": 8,
   "metadata": {},
   "outputs": [
    {
     "data": {
      "text/plain": [
       "0    True\n",
       "1    True\n",
       "2    True\n",
       "3    True\n",
       "4    True\n",
       "5    True\n",
       "6    True\n",
       "7    True\n",
       "Name: age, dtype: bool"
      ]
     },
     "execution_count": 8,
     "metadata": {},
     "output_type": "execute_result"
    }
   ],
   "source": [
    "# do each cell has a character that is not a number? (\\D)\n",
    "someData.age.str.contains(pat=r'\\D',\n",
    "                          regex=True) #str.contains > Significa todo lo que no sea numero "
   ]
  },
  {
   "cell_type": "code",
   "execution_count": 9,
   "metadata": {},
   "outputs": [
    {
     "data": {
      "text/plain": [
       "0     True\n",
       "1     True\n",
       "2     True\n",
       "3     True\n",
       "4    False\n",
       "5     True\n",
       "6     True\n",
       "7     True\n",
       "Name: age, dtype: bool"
      ]
     },
     "execution_count": 9,
     "metadata": {},
     "output_type": "execute_result"
    }
   ],
   "source": [
    "# do each cell has a number character? (\\d)\n",
    "someData.age.str.contains(pat=r'\\d',regex=True) #la celda donde no hay numero"
   ]
  },
  {
   "cell_type": "code",
   "execution_count": 10,
   "metadata": {},
   "outputs": [
    {
     "data": {
      "text/html": [
       "<div>\n",
       "<style scoped>\n",
       "    .dataframe tbody tr th:only-of-type {\n",
       "        vertical-align: middle;\n",
       "    }\n",
       "\n",
       "    .dataframe tbody tr th {\n",
       "        vertical-align: top;\n",
       "    }\n",
       "\n",
       "    .dataframe thead th {\n",
       "        text-align: right;\n",
       "    }\n",
       "</style>\n",
       "<table border=\"1\" class=\"dataframe\">\n",
       "  <thead>\n",
       "    <tr style=\"text-align: right;\">\n",
       "      <th></th>\n",
       "      <th>age</th>\n",
       "    </tr>\n",
       "  </thead>\n",
       "  <tbody>\n",
       "    <tr>\n",
       "      <th>4</th>\n",
       "      <td>I am twenty</td>\n",
       "    </tr>\n",
       "  </tbody>\n",
       "</table>\n",
       "</div>"
      ],
      "text/plain": [
       "           age\n",
       "4  I am twenty"
      ]
     },
     "execution_count": 10,
     "metadata": {},
     "output_type": "execute_result"
    }
   ],
   "source": [
    "# filter\n",
    "someData[~someData.age.str.contains(pat=r'\\d',regex=True)] #Muestra la celda donde no hay numero"
   ]
  },
  {
   "cell_type": "code",
   "execution_count": 11,
   "metadata": {},
   "outputs": [
    {
     "data": {
      "text/plain": [
       "0     It is:24\n",
       "1    It is: 44\n",
       "7          ~20\n",
       "Name: age, dtype: object"
      ]
     },
     "execution_count": 11,
     "metadata": {},
     "output_type": "execute_result"
    }
   ],
   "source": [
    "# is there a cell where you have \n",
    "# symbols beyond [^ ] alphanumeric (\\w) or spaces (\\s)?  \n",
    "someData.age[someData.age.str.contains(pat=r'[^\\w\\s]',regex=True)] #Donde no este ^\\w\\s"
   ]
  },
  {
   "cell_type": "code",
   "execution_count": 12,
   "metadata": {},
   "outputs": [
    {
     "data": {
      "text/plain": [
       "0      24\n",
       "1      44\n",
       "2      54\n",
       "3      64\n",
       "4        \n",
       "5    1021\n",
       "6      15\n",
       "7      20\n",
       "Name: age, dtype: object"
      ]
     },
     "execution_count": 12,
     "metadata": {},
     "output_type": "execute_result"
    }
   ],
   "source": [
    "# what happens if I erase all non numbers (\\D)?\n",
    "someData.age.str.replace(pat=r'\\D',repl='',regex=True) #regex > Tiene que ir con el true, ya que esta metiendo un patrón "
   ]
  },
  {
   "cell_type": "code",
   "execution_count": 13,
   "metadata": {},
   "outputs": [
    {
     "data": {
      "text/html": [
       "<div>\n",
       "<style scoped>\n",
       "    .dataframe tbody tr th:only-of-type {\n",
       "        vertical-align: middle;\n",
       "    }\n",
       "\n",
       "    .dataframe tbody tr th {\n",
       "        vertical-align: top;\n",
       "    }\n",
       "\n",
       "    .dataframe thead th {\n",
       "        text-align: right;\n",
       "    }\n",
       "</style>\n",
       "<table border=\"1\" class=\"dataframe\">\n",
       "  <thead>\n",
       "    <tr style=\"text-align: right;\">\n",
       "      <th></th>\n",
       "      <th>0</th>\n",
       "    </tr>\n",
       "  </thead>\n",
       "  <tbody>\n",
       "    <tr>\n",
       "      <th>0</th>\n",
       "      <td>24</td>\n",
       "    </tr>\n",
       "    <tr>\n",
       "      <th>1</th>\n",
       "      <td>44</td>\n",
       "    </tr>\n",
       "    <tr>\n",
       "      <th>2</th>\n",
       "      <td>54</td>\n",
       "    </tr>\n",
       "    <tr>\n",
       "      <th>3</th>\n",
       "      <td>64</td>\n",
       "    </tr>\n",
       "    <tr>\n",
       "      <th>4</th>\n",
       "      <td>NaN</td>\n",
       "    </tr>\n",
       "    <tr>\n",
       "      <th>5</th>\n",
       "      <td>10</td>\n",
       "    </tr>\n",
       "    <tr>\n",
       "      <th>6</th>\n",
       "      <td>15</td>\n",
       "    </tr>\n",
       "    <tr>\n",
       "      <th>7</th>\n",
       "      <td>20</td>\n",
       "    </tr>\n",
       "  </tbody>\n",
       "</table>\n",
       "</div>"
      ],
      "text/plain": [
       "     0\n",
       "0   24\n",
       "1   44\n",
       "2   54\n",
       "3   64\n",
       "4  NaN\n",
       "5   10\n",
       "6   15\n",
       "7   20"
      ]
     },
     "execution_count": 13,
     "metadata": {},
     "output_type": "execute_result"
    }
   ],
   "source": [
    "# what happens if I extract consecutive numeric characters (\\d+) ?\n",
    "someData.age.str.extract(pat=r'(\\d+)',expand=True)"
   ]
  },
  {
   "cell_type": "code",
   "execution_count": 14,
   "metadata": {},
   "outputs": [
    {
     "data": {
      "text/plain": [
       "0             It is:24\n",
       "1            It is: 44\n",
       "2              It is54\n",
       "3             64 it is\n",
       "4          I am twenty\n",
       "5       The  I turn 21\n",
       "6    I am 15 years old\n",
       "7                  ~20\n",
       "Name: age, dtype: object"
      ]
     },
     "execution_count": 14,
     "metadata": {},
     "output_type": "execute_result"
    }
   ],
   "source": [
    "# what happens if I erase all \n",
    "# numbers (\\d+) followed by a texts [[a-z]+] ?\n",
    "someData.age.str.replace(pat=r'\\d+[a-z]+',\n",
    "                         repl='',\n",
    "                         regex=True)"
   ]
  },
  {
   "cell_type": "code",
   "execution_count": 15,
   "metadata": {},
   "outputs": [
    {
     "data": {
      "text/html": [
       "<div>\n",
       "<style scoped>\n",
       "    .dataframe tbody tr th:only-of-type {\n",
       "        vertical-align: middle;\n",
       "    }\n",
       "\n",
       "    .dataframe tbody tr th {\n",
       "        vertical-align: top;\n",
       "    }\n",
       "\n",
       "    .dataframe thead th {\n",
       "        text-align: right;\n",
       "    }\n",
       "</style>\n",
       "<table border=\"1\" class=\"dataframe\">\n",
       "  <thead>\n",
       "    <tr style=\"text-align: right;\">\n",
       "      <th></th>\n",
       "      <th>0</th>\n",
       "    </tr>\n",
       "  </thead>\n",
       "  <tbody>\n",
       "    <tr>\n",
       "      <th>0</th>\n",
       "      <td>24</td>\n",
       "    </tr>\n",
       "    <tr>\n",
       "      <th>1</th>\n",
       "      <td>44</td>\n",
       "    </tr>\n",
       "    <tr>\n",
       "      <th>2</th>\n",
       "      <td>54</td>\n",
       "    </tr>\n",
       "    <tr>\n",
       "      <th>3</th>\n",
       "      <td>64</td>\n",
       "    </tr>\n",
       "    <tr>\n",
       "      <th>4</th>\n",
       "      <td>NaN</td>\n",
       "    </tr>\n",
       "    <tr>\n",
       "      <th>5</th>\n",
       "      <td>21</td>\n",
       "    </tr>\n",
       "    <tr>\n",
       "      <th>6</th>\n",
       "      <td>15</td>\n",
       "    </tr>\n",
       "    <tr>\n",
       "      <th>7</th>\n",
       "      <td>20</td>\n",
       "    </tr>\n",
       "  </tbody>\n",
       "</table>\n",
       "</div>"
      ],
      "text/plain": [
       "     0\n",
       "0   24\n",
       "1   44\n",
       "2   54\n",
       "3   64\n",
       "4  NaN\n",
       "5   21\n",
       "6   15\n",
       "7   20"
      ]
     },
     "execution_count": 15,
     "metadata": {},
     "output_type": "execute_result"
    }
   ],
   "source": [
    "# so:\n",
    "someData.age.str.replace(pat=r'\\d+[a-z]+',\n",
    "                         repl='',\n",
    "                         regex=True).\\\n",
    "             str.extract(pat=r'(\\d+)',expand=True)"
   ]
  },
  {
   "cell_type": "code",
   "execution_count": 16,
   "metadata": {},
   "outputs": [
    {
     "data": {
      "text/html": [
       "<div>\n",
       "<style scoped>\n",
       "    .dataframe tbody tr th:only-of-type {\n",
       "        vertical-align: middle;\n",
       "    }\n",
       "\n",
       "    .dataframe tbody tr th {\n",
       "        vertical-align: top;\n",
       "    }\n",
       "\n",
       "    .dataframe thead th {\n",
       "        text-align: right;\n",
       "    }\n",
       "</style>\n",
       "<table border=\"1\" class=\"dataframe\">\n",
       "  <thead>\n",
       "    <tr style=\"text-align: right;\">\n",
       "      <th></th>\n",
       "      <th>0</th>\n",
       "    </tr>\n",
       "  </thead>\n",
       "  <tbody>\n",
       "    <tr>\n",
       "      <th>0</th>\n",
       "      <td>24</td>\n",
       "    </tr>\n",
       "    <tr>\n",
       "      <th>1</th>\n",
       "      <td>44</td>\n",
       "    </tr>\n",
       "    <tr>\n",
       "      <th>2</th>\n",
       "      <td>54</td>\n",
       "    </tr>\n",
       "    <tr>\n",
       "      <th>3</th>\n",
       "      <td>64</td>\n",
       "    </tr>\n",
       "    <tr>\n",
       "      <th>4</th>\n",
       "      <td>NaN</td>\n",
       "    </tr>\n",
       "    <tr>\n",
       "      <th>5</th>\n",
       "      <td>21</td>\n",
       "    </tr>\n",
       "    <tr>\n",
       "      <th>6</th>\n",
       "      <td>15</td>\n",
       "    </tr>\n",
       "    <tr>\n",
       "      <th>7</th>\n",
       "      <td>20</td>\n",
       "    </tr>\n",
       "  </tbody>\n",
       "</table>\n",
       "</div>"
      ],
      "text/plain": [
       "      0\n",
       "0    24\n",
       "1    44\n",
       "2    54\n",
       "3    64\n",
       "4   NaN\n",
       "5    21\n",
       "6   15 \n",
       "7    20"
      ]
     },
     "execution_count": 16,
     "metadata": {},
     "output_type": "execute_result"
    }
   ],
   "source": [
    "# using '|' (\"or\")\n",
    "# ^ beginning of string\n",
    "# $ end of the string\n",
    "someData.age.str.extract(pat=r'(^\\d+|\\d+$|\\s\\d+\\s)',\n",
    "                         expand=True)"
   ]
  },
  {
   "cell_type": "markdown",
   "metadata": {},
   "source": [
    "Let me use both results:"
   ]
  },
  {
   "cell_type": "code",
   "execution_count": 17,
   "metadata": {},
   "outputs": [],
   "source": [
    "someData['age1']=someData.age.str.replace(pat=r'\\d+[a-z]+',\n",
    "                                          repl='',\n",
    "                                          regex=True).\\\n",
    "                                str.extract(pat=r'(\\d+)',expand=True)\n",
    "\n",
    "someData['age2']=someData.age.str.extract(pat=r'(^\\d+|\\d+$|\\s\\d+\\s)',\n",
    "                         expand=True)"
   ]
  },
  {
   "cell_type": "code",
   "execution_count": 18,
   "metadata": {},
   "outputs": [
    {
     "data": {
      "text/html": [
       "<div>\n",
       "<style scoped>\n",
       "    .dataframe tbody tr th:only-of-type {\n",
       "        vertical-align: middle;\n",
       "    }\n",
       "\n",
       "    .dataframe tbody tr th {\n",
       "        vertical-align: top;\n",
       "    }\n",
       "\n",
       "    .dataframe thead th {\n",
       "        text-align: right;\n",
       "    }\n",
       "</style>\n",
       "<table border=\"1\" class=\"dataframe\">\n",
       "  <thead>\n",
       "    <tr style=\"text-align: right;\">\n",
       "      <th></th>\n",
       "      <th>age</th>\n",
       "      <th>age1</th>\n",
       "      <th>age2</th>\n",
       "    </tr>\n",
       "  </thead>\n",
       "  <tbody>\n",
       "    <tr>\n",
       "      <th>0</th>\n",
       "      <td>It is:24</td>\n",
       "      <td>24</td>\n",
       "      <td>24</td>\n",
       "    </tr>\n",
       "    <tr>\n",
       "      <th>1</th>\n",
       "      <td>It is: 44</td>\n",
       "      <td>44</td>\n",
       "      <td>44</td>\n",
       "    </tr>\n",
       "    <tr>\n",
       "      <th>2</th>\n",
       "      <td>It is54</td>\n",
       "      <td>54</td>\n",
       "      <td>54</td>\n",
       "    </tr>\n",
       "    <tr>\n",
       "      <th>3</th>\n",
       "      <td>64 it is</td>\n",
       "      <td>64</td>\n",
       "      <td>64</td>\n",
       "    </tr>\n",
       "    <tr>\n",
       "      <th>4</th>\n",
       "      <td>I am twenty</td>\n",
       "      <td>NaN</td>\n",
       "      <td>NaN</td>\n",
       "    </tr>\n",
       "    <tr>\n",
       "      <th>5</th>\n",
       "      <td>The 10th I turn 21</td>\n",
       "      <td>21</td>\n",
       "      <td>21</td>\n",
       "    </tr>\n",
       "    <tr>\n",
       "      <th>6</th>\n",
       "      <td>I am 15 years old</td>\n",
       "      <td>15</td>\n",
       "      <td>15</td>\n",
       "    </tr>\n",
       "    <tr>\n",
       "      <th>7</th>\n",
       "      <td>~20</td>\n",
       "      <td>20</td>\n",
       "      <td>20</td>\n",
       "    </tr>\n",
       "  </tbody>\n",
       "</table>\n",
       "</div>"
      ],
      "text/plain": [
       "                  age age1  age2\n",
       "0            It is:24   24    24\n",
       "1           It is: 44   44    44\n",
       "2             It is54   54    54\n",
       "3            64 it is   64    64\n",
       "4         I am twenty  NaN   NaN\n",
       "5  The 10th I turn 21   21    21\n",
       "6   I am 15 years old   15   15 \n",
       "7                 ~20   20    20"
      ]
     },
     "execution_count": 18,
     "metadata": {},
     "output_type": "execute_result"
    }
   ],
   "source": [
    "# we have\n",
    "someData"
   ]
  },
  {
   "cell_type": "code",
   "execution_count": 19,
   "metadata": {},
   "outputs": [
    {
     "name": "stdout",
     "output_type": "stream",
     "text": [
      "<class 'pandas.core.frame.DataFrame'>\n",
      "RangeIndex: 8 entries, 0 to 7\n",
      "Data columns (total 3 columns):\n",
      " #   Column  Non-Null Count  Dtype \n",
      "---  ------  --------------  ----- \n",
      " 0   age     8 non-null      object\n",
      " 1   age1    7 non-null      object\n",
      " 2   age2    7 non-null      object\n",
      "dtypes: object(3)\n",
      "memory usage: 324.0+ bytes\n"
     ]
    }
   ],
   "source": [
    "#checking data type\n",
    "someData.info()"
   ]
  },
  {
   "cell_type": "code",
   "execution_count": 20,
   "metadata": {},
   "outputs": [
    {
     "data": {
      "text/plain": [
       "False"
      ]
     },
     "execution_count": 20,
     "metadata": {},
     "output_type": "execute_result"
    }
   ],
   "source": [
    "# they are same....right?\n",
    "someData['age1'].to_list()==someData['age2'].to_list()"
   ]
  },
  {
   "cell_type": "code",
   "execution_count": 21,
   "metadata": {},
   "outputs": [
    {
     "data": {
      "text/plain": [
       "0     True\n",
       "1     True\n",
       "2     True\n",
       "3     True\n",
       "4    False\n",
       "5     True\n",
       "6    False\n",
       "7     True\n",
       "dtype: bool"
      ]
     },
     "execution_count": 21,
     "metadata": {},
     "output_type": "execute_result"
    }
   ],
   "source": [
    "# where is the difference?\n",
    "someData['age1']==someData['age2']"
   ]
  },
  {
   "cell_type": "code",
   "execution_count": 22,
   "metadata": {},
   "outputs": [
    {
     "data": {
      "text/plain": [
       "{'20', '21', '24', '44', '54', '64', nan}"
      ]
     },
     "execution_count": 22,
     "metadata": {},
     "output_type": "execute_result"
    }
   ],
   "source": [
    "# the same in both:\n",
    "set(someData['age1']) & set(someData['age2'])"
   ]
  },
  {
   "cell_type": "code",
   "execution_count": 23,
   "metadata": {},
   "outputs": [
    {
     "data": {
      "text/plain": [
       "{' 15 ', '15'}"
      ]
     },
     "execution_count": 23,
     "metadata": {},
     "output_type": "execute_result"
    }
   ],
   "source": [
    "#different in both\n",
    "set(someData['age1']) ^ set(someData['age2'])"
   ]
  },
  {
   "cell_type": "markdown",
   "metadata": {},
   "source": [
    "The last results tells you why they are not the same. Notice that seeing a pandas Series as a list reveals the details:"
   ]
  },
  {
   "cell_type": "code",
   "execution_count": 24,
   "metadata": {},
   "outputs": [
    {
     "data": {
      "text/plain": [
       "['24', '44', '54', '64', nan, '21', '15', '20']"
      ]
     },
     "execution_count": 24,
     "metadata": {},
     "output_type": "execute_result"
    }
   ],
   "source": [
    "someData['age1'].to_list()"
   ]
  },
  {
   "cell_type": "code",
   "execution_count": 25,
   "metadata": {},
   "outputs": [
    {
     "data": {
      "text/plain": [
       "['24', '44', '54', '64', nan, '21', ' 15 ', '20']"
      ]
     },
     "execution_count": 25,
     "metadata": {},
     "output_type": "execute_result"
    }
   ],
   "source": [
    "someData['age2'].to_list()"
   ]
  },
  {
   "cell_type": "code",
   "execution_count": 26,
   "metadata": {},
   "outputs": [
    {
     "data": {
      "text/plain": [
       "['24', '44', '54', '64', nan, '21', '15', '20']"
      ]
     },
     "execution_count": 26,
     "metadata": {},
     "output_type": "execute_result"
    }
   ],
   "source": [
    "someData['age2'].str.strip().to_list()"
   ]
  },
  {
   "cell_type": "markdown",
   "metadata": {},
   "source": [
    "## Exercises:"
   ]
  },
  {
   "cell_type": "markdown",
   "metadata": {},
   "source": [
    "The CIA has several indicators for world countries:\n",
    "\n",
    "- See [here](https://www.cia.gov/the-world-factbook/references/guide-to-country-comparisons).\n",
    "\n",
    "Review the topics related to cleaning discussed in class, and see what may be need to clean this indicator from the CIA:\n",
    "\n",
    "- [Carbon dioxide emissions](https://www.cia.gov/the-world-factbook/field/carbon-dioxide-emissions/country-comparison)."
   ]
  },
  {
   "cell_type": "code",
   "execution_count": 27,
   "metadata": {
    "scrolled": true
   },
   "outputs": [
    {
     "data": {
      "text/html": [
       "\n",
       "        <iframe\n",
       "            width=\"900\"\n",
       "            height=\"900\"\n",
       "            src=\"https://www.cia.gov/the-world-factbook/field/carbon-dioxide-emissions/country-comparison\"\n",
       "            frameborder=\"0\"\n",
       "            allowfullscreen\n",
       "            \n",
       "        ></iframe>\n",
       "        "
      ],
      "text/plain": [
       "<IPython.lib.display.IFrame at 0x22d34c544d0>"
      ]
     },
     "execution_count": 27,
     "metadata": {},
     "output_type": "execute_result"
    }
   ],
   "source": [
    "from IPython.display import IFrame  \n",
    "ciaLink1=\"https://www.cia.gov/the-world-factbook/field/carbon-dioxide-emissions/country-comparison\" \n",
    "IFrame(ciaLink1, width=900, height=900)"
   ]
  },
  {
   "cell_type": "markdown",
   "metadata": {},
   "source": [
    "You  need to make sure you have installed:\n",
    "\n",
    "* pandas\n",
    "* html5lib\n",
    "* lxml\n",
    "* beautifulsoup4 (or bs4)\n",
    "\n",
    "You can use **pip show** to verify (for instance, _pip show pandas_). If you have all of them, run this code to get the data:"
   ]
  },
  {
   "cell_type": "code",
   "execution_count": 17,
   "metadata": {},
   "outputs": [],
   "source": [
    "# read web table into pandas DF\n",
    "import pandas as pd\n",
    "\n",
    "linkToFile='https://github.com/CienciaDeDatosEspacial/code_and_data/raw/main/data/carbonEmi_downloaded.csv'\n",
    "carbon=pd.read_csv(linkToFile)"
   ]
  },
  {
   "cell_type": "code",
   "execution_count": 18,
   "metadata": {},
   "outputs": [
    {
     "data": {
      "text/html": [
       "<div>\n",
       "<style scoped>\n",
       "    .dataframe tbody tr th:only-of-type {\n",
       "        vertical-align: middle;\n",
       "    }\n",
       "\n",
       "    .dataframe tbody tr th {\n",
       "        vertical-align: top;\n",
       "    }\n",
       "\n",
       "    .dataframe thead th {\n",
       "        text-align: right;\n",
       "    }\n",
       "</style>\n",
       "<table border=\"1\" class=\"dataframe\">\n",
       "  <thead>\n",
       "    <tr style=\"text-align: right;\">\n",
       "      <th></th>\n",
       "      <th>name</th>\n",
       "      <th>slug</th>\n",
       "      <th>value</th>\n",
       "      <th>date_of_information</th>\n",
       "      <th>ranking</th>\n",
       "      <th>region</th>\n",
       "    </tr>\n",
       "  </thead>\n",
       "  <tbody>\n",
       "    <tr>\n",
       "      <th>0</th>\n",
       "      <td>China</td>\n",
       "      <td>china</td>\n",
       "      <td>10,773,248,000.0</td>\n",
       "      <td>2019 est.</td>\n",
       "      <td>1</td>\n",
       "      <td>East and Southeast Asia</td>\n",
       "    </tr>\n",
       "    <tr>\n",
       "      <th>1</th>\n",
       "      <td>United States</td>\n",
       "      <td>united-states</td>\n",
       "      <td>5,144,361,000.0</td>\n",
       "      <td>2019 est.</td>\n",
       "      <td>2</td>\n",
       "      <td>North America</td>\n",
       "    </tr>\n",
       "    <tr>\n",
       "      <th>2</th>\n",
       "      <td>India</td>\n",
       "      <td>india</td>\n",
       "      <td>2,314,738,000.0</td>\n",
       "      <td>2019 est.</td>\n",
       "      <td>3</td>\n",
       "      <td>South Asia</td>\n",
       "    </tr>\n",
       "    <tr>\n",
       "      <th>3</th>\n",
       "      <td>Russia</td>\n",
       "      <td>russia</td>\n",
       "      <td>1,848,070,000.0</td>\n",
       "      <td>2019 est.</td>\n",
       "      <td>4</td>\n",
       "      <td>Central Asia</td>\n",
       "    </tr>\n",
       "    <tr>\n",
       "      <th>4</th>\n",
       "      <td>Japan</td>\n",
       "      <td>japan</td>\n",
       "      <td>1,103,234,000.0</td>\n",
       "      <td>2019 est.</td>\n",
       "      <td>5</td>\n",
       "      <td>East and Southeast Asia</td>\n",
       "    </tr>\n",
       "    <tr>\n",
       "      <th>...</th>\n",
       "      <td>...</td>\n",
       "      <td>...</td>\n",
       "      <td>...</td>\n",
       "      <td>...</td>\n",
       "      <td>...</td>\n",
       "      <td>...</td>\n",
       "    </tr>\n",
       "    <tr>\n",
       "      <th>213</th>\n",
       "      <td>Antarctica</td>\n",
       "      <td>antarctica</td>\n",
       "      <td>28,000.0</td>\n",
       "      <td>2019 est.</td>\n",
       "      <td>214</td>\n",
       "      <td>Antarctica</td>\n",
       "    </tr>\n",
       "    <tr>\n",
       "      <th>214</th>\n",
       "      <td>Saint Helena, Ascension, and Tristan da Cunha</td>\n",
       "      <td>saint-helena-ascension-and-tristan-da-cunha</td>\n",
       "      <td>13,000.0</td>\n",
       "      <td>2019 est.</td>\n",
       "      <td>215</td>\n",
       "      <td>Africa</td>\n",
       "    </tr>\n",
       "    <tr>\n",
       "      <th>215</th>\n",
       "      <td>Niue</td>\n",
       "      <td>niue</td>\n",
       "      <td>8,000.0</td>\n",
       "      <td>2019 est.</td>\n",
       "      <td>216</td>\n",
       "      <td>Australia and Oceania</td>\n",
       "    </tr>\n",
       "    <tr>\n",
       "      <th>216</th>\n",
       "      <td>Northern Mariana Islands</td>\n",
       "      <td>northern-mariana-islands</td>\n",
       "      <td>0.0</td>\n",
       "      <td>2019 est.</td>\n",
       "      <td>217</td>\n",
       "      <td>Australia and Oceania</td>\n",
       "    </tr>\n",
       "    <tr>\n",
       "      <th>217</th>\n",
       "      <td>Tuvalu</td>\n",
       "      <td>tuvalu</td>\n",
       "      <td>0.0</td>\n",
       "      <td>2019 est.</td>\n",
       "      <td>218</td>\n",
       "      <td>Australia and Oceania</td>\n",
       "    </tr>\n",
       "  </tbody>\n",
       "</table>\n",
       "<p>218 rows × 6 columns</p>\n",
       "</div>"
      ],
      "text/plain": [
       "                                              name  \\\n",
       "0                                            China   \n",
       "1                                    United States   \n",
       "2                                            India   \n",
       "3                                           Russia   \n",
       "4                                            Japan   \n",
       "..                                             ...   \n",
       "213                                     Antarctica   \n",
       "214  Saint Helena, Ascension, and Tristan da Cunha   \n",
       "215                                           Niue   \n",
       "216                       Northern Mariana Islands   \n",
       "217                                         Tuvalu   \n",
       "\n",
       "                                            slug             value  \\\n",
       "0                                          china  10,773,248,000.0   \n",
       "1                                  united-states   5,144,361,000.0   \n",
       "2                                          india   2,314,738,000.0   \n",
       "3                                         russia   1,848,070,000.0   \n",
       "4                                          japan   1,103,234,000.0   \n",
       "..                                           ...               ...   \n",
       "213                                   antarctica          28,000.0   \n",
       "214  saint-helena-ascension-and-tristan-da-cunha          13,000.0   \n",
       "215                                         niue           8,000.0   \n",
       "216                     northern-mariana-islands               0.0   \n",
       "217                                       tuvalu               0.0   \n",
       "\n",
       "    date_of_information  ranking                   region  \n",
       "0             2019 est.        1  East and Southeast Asia  \n",
       "1             2019 est.        2            North America  \n",
       "2             2019 est.        3               South Asia  \n",
       "3             2019 est.        4             Central Asia  \n",
       "4             2019 est.        5  East and Southeast Asia  \n",
       "..                  ...      ...                      ...  \n",
       "213           2019 est.      214               Antarctica  \n",
       "214           2019 est.      215                   Africa  \n",
       "215           2019 est.      216    Australia and Oceania  \n",
       "216           2019 est.      217    Australia and Oceania  \n",
       "217           2019 est.      218    Australia and Oceania  \n",
       "\n",
       "[218 rows x 6 columns]"
      ]
     },
     "execution_count": 18,
     "metadata": {},
     "output_type": "execute_result"
    }
   ],
   "source": [
    "# here it is:\n",
    "carbon"
   ]
  },
  {
   "cell_type": "code",
   "execution_count": 19,
   "metadata": {},
   "outputs": [
    {
     "name": "stdout",
     "output_type": "stream",
     "text": [
      "<class 'pandas.core.frame.DataFrame'>\n",
      "RangeIndex: 218 entries, 0 to 217\n",
      "Data columns (total 6 columns):\n",
      " #   Column               Non-Null Count  Dtype \n",
      "---  ------               --------------  ----- \n",
      " 0   name                 218 non-null    object\n",
      " 1   slug                 218 non-null    object\n",
      " 2   value                218 non-null    object\n",
      " 3   date_of_information  218 non-null    object\n",
      " 4   ranking              218 non-null    int64 \n",
      " 5   region               218 non-null    object\n",
      "dtypes: int64(1), object(5)\n",
      "memory usage: 10.3+ KB\n"
     ]
    }
   ],
   "source": [
    "# also\n",
    "carbon.info()"
   ]
  },
  {
   "cell_type": "code",
   "execution_count": 20,
   "metadata": {},
   "outputs": [
    {
     "data": {
      "text/plain": [
       "region\n",
       "Africa                               55\n",
       "Europe                               43\n",
       "Central America and the Caribbean    27\n",
       "East and Southeast Asia              20\n",
       "Australia and Oceania                20\n",
       "Middle East                          19\n",
       "South America                        13\n",
       "South Asia                            8\n",
       "North America                         6\n",
       "Central Asia                          6\n",
       "Antarctica                            1\n",
       "Name: count, dtype: int64"
      ]
     },
     "execution_count": 20,
     "metadata": {},
     "output_type": "execute_result"
    }
   ],
   "source": [
    "# frequency table\n",
    "carbon.region.value_counts()"
   ]
  },
  {
   "cell_type": "code",
   "execution_count": 21,
   "metadata": {},
   "outputs": [
    {
     "data": {
      "text/plain": [
       "date_of_information\n",
       "2019 est.    216\n",
       "2012 est.      1\n",
       "2017 est.      1\n",
       "Name: count, dtype: int64"
      ]
     },
     "execution_count": 21,
     "metadata": {},
     "output_type": "execute_result"
    }
   ],
   "source": [
    "# frequency table\n",
    "carbon.date_of_information.value_counts()"
   ]
  },
  {
   "cell_type": "markdown",
   "metadata": {},
   "source": [
    "Complete the tasks requested:\n",
    "\n",
    "1. Keep the columns _name_, _value_, *date_of_information* and _region_.\n",
    "    * Tip: use [drop](https://pandas.pydata.org/docs/reference/api/pandas.DataFrame.drop.html), [loc](https://pandas.pydata.org/docs/reference/api/pandas.DataFrame.loc.html), and [iloc](https://pandas.pydata.org/docs/reference/api/pandas.DataFrame.iloc.html) for the same purpose (three ways to accomplish the task).\n",
    "2. Change the column name *date_of_information* to *carbon_date*.\n",
    "    * Tip: Use [rename](https://pandas.pydata.org/docs/reference/api/pandas.DataFrame.rename.html).\n",
    "3. Make sure the cells with text does not have neither trailing nor leading spaces.\n",
    "    * Tip: use [strip](https://pandas.pydata.org/docs/reference/api/pandas.Series.str.strip.html).\n",
    "4. Detect the presence of symbols in the numeric data that are not numeric or point.\n",
    "    * Tip: Use [contains](https://pandas.pydata.org/docs/reference/api/pandas.Series.str.contains.html).\n",
    "5. Make sure there are no spaces as part of the column names.\n",
    "    * Tip: use [replace](https://pandas.pydata.org/docs/reference/api/pandas.Series.replace.html).\n",
    "6. Get rid of any value detected in the previous step:\n",
    "    * Tip: use [replace](https://pandas.pydata.org/docs/reference/api/pandas.Series.replace.html).\n",
    "7. Keep only the year value in the column *carbon_date*.\n",
    "    * Tip: use [extract](https://pandas.pydata.org/docs/reference/api/pandas.Series.str.extract.html).\n",
    "\n",
    "When all tasks are done, create a folder **data** inside the current folder, and save the cleaned file like this:\n"
   ]
  },
  {
   "cell_type": "code",
   "execution_count": 97,
   "metadata": {},
   "outputs": [],
   "source": [
    "# import os\n",
    "# carbonCleaned.to_csv(os.path.join(\"data\",\"carbonCleaned.csv\"),index=False)"
   ]
  },
  {
   "cell_type": "code",
   "execution_count": 98,
   "metadata": {},
   "outputs": [
    {
     "data": {
      "text/html": [
       "<div>\n",
       "<style scoped>\n",
       "    .dataframe tbody tr th:only-of-type {\n",
       "        vertical-align: middle;\n",
       "    }\n",
       "\n",
       "    .dataframe tbody tr th {\n",
       "        vertical-align: top;\n",
       "    }\n",
       "\n",
       "    .dataframe thead th {\n",
       "        text-align: right;\n",
       "    }\n",
       "</style>\n",
       "<table border=\"1\" class=\"dataframe\">\n",
       "  <thead>\n",
       "    <tr style=\"text-align: right;\">\n",
       "      <th></th>\n",
       "      <th>name</th>\n",
       "      <th>value</th>\n",
       "      <th>carbon_date</th>\n",
       "      <th>ranking</th>\n",
       "      <th>region</th>\n",
       "    </tr>\n",
       "  </thead>\n",
       "  <tbody>\n",
       "    <tr>\n",
       "      <th>0</th>\n",
       "      <td>China</td>\n",
       "      <td>10,773,248,000.0</td>\n",
       "      <td>2019 est.</td>\n",
       "      <td>1</td>\n",
       "      <td>East and Southeast Asia</td>\n",
       "    </tr>\n",
       "    <tr>\n",
       "      <th>1</th>\n",
       "      <td>United States</td>\n",
       "      <td>5,144,361,000.0</td>\n",
       "      <td>2019 est.</td>\n",
       "      <td>2</td>\n",
       "      <td>North America</td>\n",
       "    </tr>\n",
       "    <tr>\n",
       "      <th>2</th>\n",
       "      <td>India</td>\n",
       "      <td>2,314,738,000.0</td>\n",
       "      <td>2019 est.</td>\n",
       "      <td>3</td>\n",
       "      <td>South Asia</td>\n",
       "    </tr>\n",
       "    <tr>\n",
       "      <th>3</th>\n",
       "      <td>Russia</td>\n",
       "      <td>1,848,070,000.0</td>\n",
       "      <td>2019 est.</td>\n",
       "      <td>4</td>\n",
       "      <td>Central Asia</td>\n",
       "    </tr>\n",
       "    <tr>\n",
       "      <th>4</th>\n",
       "      <td>Japan</td>\n",
       "      <td>1,103,234,000.0</td>\n",
       "      <td>2019 est.</td>\n",
       "      <td>5</td>\n",
       "      <td>East and Southeast Asia</td>\n",
       "    </tr>\n",
       "    <tr>\n",
       "      <th>...</th>\n",
       "      <td>...</td>\n",
       "      <td>...</td>\n",
       "      <td>...</td>\n",
       "      <td>...</td>\n",
       "      <td>...</td>\n",
       "    </tr>\n",
       "    <tr>\n",
       "      <th>213</th>\n",
       "      <td>Antarctica</td>\n",
       "      <td>28,000.0</td>\n",
       "      <td>2019 est.</td>\n",
       "      <td>214</td>\n",
       "      <td>Antarctica</td>\n",
       "    </tr>\n",
       "    <tr>\n",
       "      <th>214</th>\n",
       "      <td>Saint Helena, Ascension, and Tristan da Cunha</td>\n",
       "      <td>13,000.0</td>\n",
       "      <td>2019 est.</td>\n",
       "      <td>215</td>\n",
       "      <td>Africa</td>\n",
       "    </tr>\n",
       "    <tr>\n",
       "      <th>215</th>\n",
       "      <td>Niue</td>\n",
       "      <td>8,000.0</td>\n",
       "      <td>2019 est.</td>\n",
       "      <td>216</td>\n",
       "      <td>Australia and Oceania</td>\n",
       "    </tr>\n",
       "    <tr>\n",
       "      <th>216</th>\n",
       "      <td>Northern Mariana Islands</td>\n",
       "      <td>0.0</td>\n",
       "      <td>2019 est.</td>\n",
       "      <td>217</td>\n",
       "      <td>Australia and Oceania</td>\n",
       "    </tr>\n",
       "    <tr>\n",
       "      <th>217</th>\n",
       "      <td>Tuvalu</td>\n",
       "      <td>0.0</td>\n",
       "      <td>2019 est.</td>\n",
       "      <td>218</td>\n",
       "      <td>Australia and Oceania</td>\n",
       "    </tr>\n",
       "  </tbody>\n",
       "</table>\n",
       "<p>218 rows × 5 columns</p>\n",
       "</div>"
      ],
      "text/plain": [
       "                                              name             value  \\\n",
       "0                                            China  10,773,248,000.0   \n",
       "1                                    United States   5,144,361,000.0   \n",
       "2                                            India   2,314,738,000.0   \n",
       "3                                           Russia   1,848,070,000.0   \n",
       "4                                            Japan   1,103,234,000.0   \n",
       "..                                             ...               ...   \n",
       "213                                     Antarctica          28,000.0   \n",
       "214  Saint Helena, Ascension, and Tristan da Cunha          13,000.0   \n",
       "215                                           Niue           8,000.0   \n",
       "216                       Northern Mariana Islands               0.0   \n",
       "217                                         Tuvalu               0.0   \n",
       "\n",
       "    carbon_date  ranking                   region  \n",
       "0     2019 est.        1  East and Southeast Asia  \n",
       "1     2019 est.        2            North America  \n",
       "2     2019 est.        3               South Asia  \n",
       "3     2019 est.        4             Central Asia  \n",
       "4     2019 est.        5  East and Southeast Asia  \n",
       "..          ...      ...                      ...  \n",
       "213   2019 est.      214               Antarctica  \n",
       "214   2019 est.      215                   Africa  \n",
       "215   2019 est.      216    Australia and Oceania  \n",
       "216   2019 est.      217    Australia and Oceania  \n",
       "217   2019 est.      218    Australia and Oceania  \n",
       "\n",
       "[218 rows x 5 columns]"
      ]
     },
     "execution_count": 98,
     "metadata": {},
     "output_type": "execute_result"
    }
   ],
   "source": [
    "carbon1=carbon.copy()\n",
    "carbon1.drop(columns=[\"slug\"],inplace=True)\n",
    "carbon1"
   ]
  },
  {
   "cell_type": "code",
   "execution_count": 99,
   "metadata": {},
   "outputs": [
    {
     "data": {
      "text/html": [
       "<div>\n",
       "<style scoped>\n",
       "    .dataframe tbody tr th:only-of-type {\n",
       "        vertical-align: middle;\n",
       "    }\n",
       "\n",
       "    .dataframe tbody tr th {\n",
       "        vertical-align: top;\n",
       "    }\n",
       "\n",
       "    .dataframe thead th {\n",
       "        text-align: right;\n",
       "    }\n",
       "</style>\n",
       "<table border=\"1\" class=\"dataframe\">\n",
       "  <thead>\n",
       "    <tr style=\"text-align: right;\">\n",
       "      <th></th>\n",
       "      <th>name</th>\n",
       "      <th>value</th>\n",
       "      <th>carbon_date</th>\n",
       "      <th>ranking</th>\n",
       "      <th>region</th>\n",
       "    </tr>\n",
       "  </thead>\n",
       "  <tbody>\n",
       "    <tr>\n",
       "      <th>0</th>\n",
       "      <td>China</td>\n",
       "      <td>10,773,248,000.0</td>\n",
       "      <td>2019 est.</td>\n",
       "      <td>1</td>\n",
       "      <td>East and Southeast Asia</td>\n",
       "    </tr>\n",
       "    <tr>\n",
       "      <th>1</th>\n",
       "      <td>United States</td>\n",
       "      <td>5,144,361,000.0</td>\n",
       "      <td>2019 est.</td>\n",
       "      <td>2</td>\n",
       "      <td>North America</td>\n",
       "    </tr>\n",
       "    <tr>\n",
       "      <th>2</th>\n",
       "      <td>India</td>\n",
       "      <td>2,314,738,000.0</td>\n",
       "      <td>2019 est.</td>\n",
       "      <td>3</td>\n",
       "      <td>South Asia</td>\n",
       "    </tr>\n",
       "    <tr>\n",
       "      <th>3</th>\n",
       "      <td>Russia</td>\n",
       "      <td>1,848,070,000.0</td>\n",
       "      <td>2019 est.</td>\n",
       "      <td>4</td>\n",
       "      <td>Central Asia</td>\n",
       "    </tr>\n",
       "    <tr>\n",
       "      <th>4</th>\n",
       "      <td>Japan</td>\n",
       "      <td>1,103,234,000.0</td>\n",
       "      <td>2019 est.</td>\n",
       "      <td>5</td>\n",
       "      <td>East and Southeast Asia</td>\n",
       "    </tr>\n",
       "    <tr>\n",
       "      <th>...</th>\n",
       "      <td>...</td>\n",
       "      <td>...</td>\n",
       "      <td>...</td>\n",
       "      <td>...</td>\n",
       "      <td>...</td>\n",
       "    </tr>\n",
       "    <tr>\n",
       "      <th>213</th>\n",
       "      <td>Antarctica</td>\n",
       "      <td>28,000.0</td>\n",
       "      <td>2019 est.</td>\n",
       "      <td>214</td>\n",
       "      <td>Antarctica</td>\n",
       "    </tr>\n",
       "    <tr>\n",
       "      <th>214</th>\n",
       "      <td>Saint Helena, Ascension, and Tristan da Cunha</td>\n",
       "      <td>13,000.0</td>\n",
       "      <td>2019 est.</td>\n",
       "      <td>215</td>\n",
       "      <td>Africa</td>\n",
       "    </tr>\n",
       "    <tr>\n",
       "      <th>215</th>\n",
       "      <td>Niue</td>\n",
       "      <td>8,000.0</td>\n",
       "      <td>2019 est.</td>\n",
       "      <td>216</td>\n",
       "      <td>Australia and Oceania</td>\n",
       "    </tr>\n",
       "    <tr>\n",
       "      <th>216</th>\n",
       "      <td>Northern Mariana Islands</td>\n",
       "      <td>0.0</td>\n",
       "      <td>2019 est.</td>\n",
       "      <td>217</td>\n",
       "      <td>Australia and Oceania</td>\n",
       "    </tr>\n",
       "    <tr>\n",
       "      <th>217</th>\n",
       "      <td>Tuvalu</td>\n",
       "      <td>0.0</td>\n",
       "      <td>2019 est.</td>\n",
       "      <td>218</td>\n",
       "      <td>Australia and Oceania</td>\n",
       "    </tr>\n",
       "  </tbody>\n",
       "</table>\n",
       "<p>218 rows × 5 columns</p>\n",
       "</div>"
      ],
      "text/plain": [
       "                                              name             value  \\\n",
       "0                                            China  10,773,248,000.0   \n",
       "1                                    United States   5,144,361,000.0   \n",
       "2                                            India   2,314,738,000.0   \n",
       "3                                           Russia   1,848,070,000.0   \n",
       "4                                            Japan   1,103,234,000.0   \n",
       "..                                             ...               ...   \n",
       "213                                     Antarctica          28,000.0   \n",
       "214  Saint Helena, Ascension, and Tristan da Cunha          13,000.0   \n",
       "215                                           Niue           8,000.0   \n",
       "216                       Northern Mariana Islands               0.0   \n",
       "217                                         Tuvalu               0.0   \n",
       "\n",
       "    carbon_date  ranking                   region  \n",
       "0     2019 est.        1  East and Southeast Asia  \n",
       "1     2019 est.        2            North America  \n",
       "2     2019 est.        3               South Asia  \n",
       "3     2019 est.        4             Central Asia  \n",
       "4     2019 est.        5  East and Southeast Asia  \n",
       "..          ...      ...                      ...  \n",
       "213   2019 est.      214               Antarctica  \n",
       "214   2019 est.      215                   Africa  \n",
       "215   2019 est.      216    Australia and Oceania  \n",
       "216   2019 est.      217    Australia and Oceania  \n",
       "217   2019 est.      218    Australia and Oceania  \n",
       "\n",
       "[218 rows x 5 columns]"
      ]
     },
     "execution_count": 99,
     "metadata": {},
     "output_type": "execute_result"
    }
   ],
   "source": [
    "carbon1.rename(columns={\"date_of_information\":\"carbon_date\"},inplace=True)\n",
    "carbon1"
   ]
  },
  {
   "cell_type": "markdown",
   "metadata": {},
   "source": [
    "- Exercise 2: Scrape the data on [Revenue from forest resources](https://www.cia.gov/the-world-factbook/field/revenue-from-forest-resources/country-comparison). "
   ]
  },
  {
   "cell_type": "code",
   "execution_count": 100,
   "metadata": {
    "scrolled": false
   },
   "outputs": [
    {
     "data": {
      "text/html": [
       "<div>\n",
       "<style scoped>\n",
       "    .dataframe tbody tr th:only-of-type {\n",
       "        vertical-align: middle;\n",
       "    }\n",
       "\n",
       "    .dataframe tbody tr th {\n",
       "        vertical-align: top;\n",
       "    }\n",
       "\n",
       "    .dataframe thead th {\n",
       "        text-align: right;\n",
       "    }\n",
       "</style>\n",
       "<table border=\"1\" class=\"dataframe\">\n",
       "  <thead>\n",
       "    <tr style=\"text-align: right;\">\n",
       "      <th></th>\n",
       "      <th>name</th>\n",
       "      <th>value</th>\n",
       "      <th>carbon_date</th>\n",
       "      <th>ranking</th>\n",
       "      <th>region</th>\n",
       "    </tr>\n",
       "  </thead>\n",
       "  <tbody>\n",
       "    <tr>\n",
       "      <th>0</th>\n",
       "      <td>China</td>\n",
       "      <td>10,773,248,000.0</td>\n",
       "      <td>2019 est.</td>\n",
       "      <td>1</td>\n",
       "      <td>East and Southeast Asia</td>\n",
       "    </tr>\n",
       "    <tr>\n",
       "      <th>1</th>\n",
       "      <td>United States</td>\n",
       "      <td>5,144,361,000.0</td>\n",
       "      <td>2019 est.</td>\n",
       "      <td>2</td>\n",
       "      <td>North America</td>\n",
       "    </tr>\n",
       "    <tr>\n",
       "      <th>2</th>\n",
       "      <td>India</td>\n",
       "      <td>2,314,738,000.0</td>\n",
       "      <td>2019 est.</td>\n",
       "      <td>3</td>\n",
       "      <td>South Asia</td>\n",
       "    </tr>\n",
       "    <tr>\n",
       "      <th>3</th>\n",
       "      <td>Russia</td>\n",
       "      <td>1,848,070,000.0</td>\n",
       "      <td>2019 est.</td>\n",
       "      <td>4</td>\n",
       "      <td>Central Asia</td>\n",
       "    </tr>\n",
       "    <tr>\n",
       "      <th>4</th>\n",
       "      <td>Japan</td>\n",
       "      <td>1,103,234,000.0</td>\n",
       "      <td>2019 est.</td>\n",
       "      <td>5</td>\n",
       "      <td>East and Southeast Asia</td>\n",
       "    </tr>\n",
       "    <tr>\n",
       "      <th>...</th>\n",
       "      <td>...</td>\n",
       "      <td>...</td>\n",
       "      <td>...</td>\n",
       "      <td>...</td>\n",
       "      <td>...</td>\n",
       "    </tr>\n",
       "    <tr>\n",
       "      <th>213</th>\n",
       "      <td>Antarctica</td>\n",
       "      <td>28,000.0</td>\n",
       "      <td>2019 est.</td>\n",
       "      <td>214</td>\n",
       "      <td>Antarctica</td>\n",
       "    </tr>\n",
       "    <tr>\n",
       "      <th>214</th>\n",
       "      <td>Saint Helena, Ascension, and Tristan da Cunha</td>\n",
       "      <td>13,000.0</td>\n",
       "      <td>2019 est.</td>\n",
       "      <td>215</td>\n",
       "      <td>Africa</td>\n",
       "    </tr>\n",
       "    <tr>\n",
       "      <th>215</th>\n",
       "      <td>Niue</td>\n",
       "      <td>8,000.0</td>\n",
       "      <td>2019 est.</td>\n",
       "      <td>216</td>\n",
       "      <td>Australia and Oceania</td>\n",
       "    </tr>\n",
       "    <tr>\n",
       "      <th>216</th>\n",
       "      <td>Northern Mariana Islands</td>\n",
       "      <td>0.0</td>\n",
       "      <td>2019 est.</td>\n",
       "      <td>217</td>\n",
       "      <td>Australia and Oceania</td>\n",
       "    </tr>\n",
       "    <tr>\n",
       "      <th>217</th>\n",
       "      <td>Tuvalu</td>\n",
       "      <td>0.0</td>\n",
       "      <td>2019 est.</td>\n",
       "      <td>218</td>\n",
       "      <td>Australia and Oceania</td>\n",
       "    </tr>\n",
       "  </tbody>\n",
       "</table>\n",
       "<p>218 rows × 5 columns</p>\n",
       "</div>"
      ],
      "text/plain": [
       "                                              name             value  \\\n",
       "0                                            China  10,773,248,000.0   \n",
       "1                                    United States   5,144,361,000.0   \n",
       "2                                            India   2,314,738,000.0   \n",
       "3                                           Russia   1,848,070,000.0   \n",
       "4                                            Japan   1,103,234,000.0   \n",
       "..                                             ...               ...   \n",
       "213                                     Antarctica          28,000.0   \n",
       "214  Saint Helena, Ascension, and Tristan da Cunha          13,000.0   \n",
       "215                                           Niue           8,000.0   \n",
       "216                       Northern Mariana Islands               0.0   \n",
       "217                                         Tuvalu               0.0   \n",
       "\n",
       "    carbon_date  ranking                   region  \n",
       "0     2019 est.        1  East and Southeast Asia  \n",
       "1     2019 est.        2            North America  \n",
       "2     2019 est.        3               South Asia  \n",
       "3     2019 est.        4             Central Asia  \n",
       "4     2019 est.        5  East and Southeast Asia  \n",
       "..          ...      ...                      ...  \n",
       "213   2019 est.      214               Antarctica  \n",
       "214   2019 est.      215                   Africa  \n",
       "215   2019 est.      216    Australia and Oceania  \n",
       "216   2019 est.      217    Australia and Oceania  \n",
       "217   2019 est.      218    Australia and Oceania  \n",
       "\n",
       "[218 rows x 5 columns]"
      ]
     },
     "execution_count": 100,
     "metadata": {},
     "output_type": "execute_result"
    }
   ],
   "source": [
    "carbon1.name.str.strip() \n",
    "carbon1"
   ]
  },
  {
   "cell_type": "code",
   "execution_count": 101,
   "metadata": {},
   "outputs": [
    {
     "data": {
      "text/plain": [
       "0       True\n",
       "1       True\n",
       "2       True\n",
       "3       True\n",
       "4       True\n",
       "       ...  \n",
       "213     True\n",
       "214     True\n",
       "215     True\n",
       "216    False\n",
       "217    False\n",
       "Name: value, Length: 218, dtype: bool"
      ]
     },
     "execution_count": 101,
     "metadata": {},
     "output_type": "execute_result"
    }
   ],
   "source": [
    "carbon2=carbon1.value.str.contains(\",\", regex=True)\n",
    "carbon2"
   ]
  },
  {
   "cell_type": "code",
   "execution_count": 104,
   "metadata": {},
   "outputs": [
    {
     "data": {
      "text/plain": [
       "0                                  China\n",
       "1                            Unitedtates\n",
       "2                                  India\n",
       "3                                 Russia\n",
       "4                                  Japan\n",
       "                     ...                \n",
       "213                           Antarctica\n",
       "214    Saintelena,scension,ndristanaunha\n",
       "215                                 Niue\n",
       "216                 Northernarianaslands\n",
       "217                               Tuvalu\n",
       "Name: name, Length: 218, dtype: object"
      ]
     },
     "execution_count": 104,
     "metadata": {},
     "output_type": "execute_result"
    }
   ],
   "source": [
    "carbon3=carbon1.name.str.replace(pat=r' \\D',repl='',regex=True)\n",
    "carbon3"
   ]
  },
  {
   "cell_type": "code",
   "execution_count": 106,
   "metadata": {
    "scrolled": true
   },
   "outputs": [
    {
     "ename": "AttributeError",
     "evalue": "'Series' object has no attribute 'default'",
     "output_type": "error",
     "traceback": [
      "\u001b[1;31m---------------------------------------------------------------------------\u001b[0m",
      "\u001b[1;31mAttributeError\u001b[0m                            Traceback (most recent call last)",
      "\u001b[1;32m~\\AppData\\Local\\Temp\\ipykernel_16912\\2442004555.py\u001b[0m in \u001b[0;36m?\u001b[1;34m()\u001b[0m\n\u001b[1;32m----> 1\u001b[1;33m \u001b[0mcarbon4\u001b[0m\u001b[1;33m=\u001b[0m\u001b[0mcarbon1\u001b[0m\u001b[1;33m.\u001b[0m\u001b[0mcarbon_date\u001b[0m\u001b[1;33m.\u001b[0m\u001b[0mdefault\u001b[0m\u001b[1;33m.\u001b[0m\u001b[0mextract\u001b[0m\u001b[1;33m(\u001b[0m\u001b[0mpat\u001b[0m\u001b[1;33m=\u001b[0m\u001b[1;34mr'(\\d)'\u001b[0m\u001b[1;33m,\u001b[0m\u001b[0mexpand\u001b[0m\u001b[1;33m=\u001b[0m\u001b[1;32mTrue\u001b[0m\u001b[1;33m)\u001b[0m\u001b[1;33m\u001b[0m\u001b[1;33m\u001b[0m\u001b[0m\n\u001b[0m\u001b[0;32m      2\u001b[0m \u001b[0mcarbon4\u001b[0m\u001b[1;33m\u001b[0m\u001b[1;33m\u001b[0m\u001b[0m\n",
      "\u001b[1;32mD:\\Ciencias de datos\\envs\\SDS-2023-2-Quintana\\Lib\\site-packages\\pandas\\core\\generic.py\u001b[0m in \u001b[0;36m?\u001b[1;34m(self, name)\u001b[0m\n\u001b[0;32m   5985\u001b[0m             \u001b[1;32mand\u001b[0m \u001b[0mname\u001b[0m \u001b[1;32mnot\u001b[0m \u001b[1;32min\u001b[0m \u001b[0mself\u001b[0m\u001b[1;33m.\u001b[0m\u001b[0m_accessors\u001b[0m\u001b[1;33m\u001b[0m\u001b[1;33m\u001b[0m\u001b[0m\n\u001b[0;32m   5986\u001b[0m             \u001b[1;32mand\u001b[0m \u001b[0mself\u001b[0m\u001b[1;33m.\u001b[0m\u001b[0m_info_axis\u001b[0m\u001b[1;33m.\u001b[0m\u001b[0m_can_hold_identifiers_and_holds_name\u001b[0m\u001b[1;33m(\u001b[0m\u001b[0mname\u001b[0m\u001b[1;33m)\u001b[0m\u001b[1;33m\u001b[0m\u001b[1;33m\u001b[0m\u001b[0m\n\u001b[0;32m   5987\u001b[0m         ):\n\u001b[0;32m   5988\u001b[0m             \u001b[1;32mreturn\u001b[0m \u001b[0mself\u001b[0m\u001b[1;33m[\u001b[0m\u001b[0mname\u001b[0m\u001b[1;33m]\u001b[0m\u001b[1;33m\u001b[0m\u001b[1;33m\u001b[0m\u001b[0m\n\u001b[1;32m-> 5989\u001b[1;33m         \u001b[1;32mreturn\u001b[0m \u001b[0mobject\u001b[0m\u001b[1;33m.\u001b[0m\u001b[0m__getattribute__\u001b[0m\u001b[1;33m(\u001b[0m\u001b[0mself\u001b[0m\u001b[1;33m,\u001b[0m \u001b[0mname\u001b[0m\u001b[1;33m)\u001b[0m\u001b[1;33m\u001b[0m\u001b[1;33m\u001b[0m\u001b[0m\n\u001b[0m",
      "\u001b[1;31mAttributeError\u001b[0m: 'Series' object has no attribute 'default'"
     ]
    }
   ],
   "source": [
    "carbon4=carbon1.carbon_date.default.extract(pat=r'(\\d)',expand=True)\n",
    "carbon4"
   ]
  },
  {
   "cell_type": "markdown",
   "metadata": {},
   "source": [
    "## from IPython.display import IFrame  \n",
    "cialink=\"https://www.cia.gov/the-world-factbook/field/revenue-from-forest-resources/country-comparison\" \n",
    "IFrame(ciaLink2, width=900, height=900)"
   ]
  },
  {
   "cell_type": "markdown",
   "metadata": {},
   "source": [
    "Let's scrape that data:"
   ]
  },
  {
   "cell_type": "code",
   "execution_count": 3,
   "metadata": {},
   "outputs": [],
   "source": [
    "# read web table into pandas DF\n",
    "import pandas as pd\n",
    "\n",
    "forestDFs=pd.read_html(\"https://www.cia.gov/the-world-factbook/field/revenue-from-forest-resources/country-comparison\", # link\n",
    "                        header=0, # where is the header?\n",
    "                        flavor='bs4')"
   ]
  },
  {
   "cell_type": "code",
   "execution_count": 4,
   "metadata": {},
   "outputs": [
    {
     "data": {
      "text/plain": [
       "list"
      ]
     },
     "execution_count": 4,
     "metadata": {},
     "output_type": "execute_result"
    }
   ],
   "source": [
    "# check object type \n",
    "type(forestDFs)"
   ]
  },
  {
   "cell_type": "code",
   "execution_count": 5,
   "metadata": {},
   "outputs": [
    {
     "data": {
      "text/plain": [
       "1"
      ]
     },
     "execution_count": 5,
     "metadata": {},
     "output_type": "execute_result"
    }
   ],
   "source": [
    "# check size\n",
    "len(forestDFs)"
   ]
  },
  {
   "cell_type": "markdown",
   "metadata": {},
   "source": [
    "Let's create a copy of that DF:"
   ]
  },
  {
   "cell_type": "code",
   "execution_count": 6,
   "metadata": {},
   "outputs": [],
   "source": [
    "# make a copy\n",
    "forest=forestDFs[0].copy()"
   ]
  },
  {
   "cell_type": "code",
   "execution_count": 7,
   "metadata": {},
   "outputs": [
    {
     "data": {
      "text/html": [
       "<div>\n",
       "<style scoped>\n",
       "    .dataframe tbody tr th:only-of-type {\n",
       "        vertical-align: middle;\n",
       "    }\n",
       "\n",
       "    .dataframe tbody tr th {\n",
       "        vertical-align: top;\n",
       "    }\n",
       "\n",
       "    .dataframe thead th {\n",
       "        text-align: right;\n",
       "    }\n",
       "</style>\n",
       "<table border=\"1\" class=\"dataframe\">\n",
       "  <thead>\n",
       "    <tr style=\"text-align: right;\">\n",
       "      <th></th>\n",
       "      <th>Rank</th>\n",
       "      <th>Country</th>\n",
       "      <th>% of GDP</th>\n",
       "      <th>Date of Information</th>\n",
       "    </tr>\n",
       "  </thead>\n",
       "  <tbody>\n",
       "    <tr>\n",
       "      <th>0</th>\n",
       "      <td>1</td>\n",
       "      <td>Solomon Islands</td>\n",
       "      <td>20.27</td>\n",
       "      <td>2018 est.</td>\n",
       "    </tr>\n",
       "    <tr>\n",
       "      <th>1</th>\n",
       "      <td>2</td>\n",
       "      <td>Liberia</td>\n",
       "      <td>13.27</td>\n",
       "      <td>2018 est.</td>\n",
       "    </tr>\n",
       "    <tr>\n",
       "      <th>2</th>\n",
       "      <td>3</td>\n",
       "      <td>Burundi</td>\n",
       "      <td>10.31</td>\n",
       "      <td>2018 est.</td>\n",
       "    </tr>\n",
       "    <tr>\n",
       "      <th>3</th>\n",
       "      <td>4</td>\n",
       "      <td>Guinea-Bissau</td>\n",
       "      <td>9.24</td>\n",
       "      <td>2018 est.</td>\n",
       "    </tr>\n",
       "    <tr>\n",
       "      <th>4</th>\n",
       "      <td>5</td>\n",
       "      <td>Central African Republic</td>\n",
       "      <td>8.99</td>\n",
       "      <td>2018 est.</td>\n",
       "    </tr>\n",
       "    <tr>\n",
       "      <th>...</th>\n",
       "      <td>...</td>\n",
       "      <td>...</td>\n",
       "      <td>...</td>\n",
       "      <td>...</td>\n",
       "    </tr>\n",
       "    <tr>\n",
       "      <th>199</th>\n",
       "      <td>200</td>\n",
       "      <td>Guam</td>\n",
       "      <td>0.00</td>\n",
       "      <td>2018 est.</td>\n",
       "    </tr>\n",
       "    <tr>\n",
       "      <th>200</th>\n",
       "      <td>201</td>\n",
       "      <td>Faroe Islands</td>\n",
       "      <td>0.00</td>\n",
       "      <td>2017 est.</td>\n",
       "    </tr>\n",
       "    <tr>\n",
       "      <th>201</th>\n",
       "      <td>202</td>\n",
       "      <td>Aruba</td>\n",
       "      <td>0.00</td>\n",
       "      <td>2017 est.</td>\n",
       "    </tr>\n",
       "    <tr>\n",
       "      <th>202</th>\n",
       "      <td>203</td>\n",
       "      <td>Virgin Islands</td>\n",
       "      <td>0.00</td>\n",
       "      <td>2017 est.</td>\n",
       "    </tr>\n",
       "    <tr>\n",
       "      <th>203</th>\n",
       "      <td>204</td>\n",
       "      <td>Macau</td>\n",
       "      <td>0.00</td>\n",
       "      <td>2018 est.</td>\n",
       "    </tr>\n",
       "  </tbody>\n",
       "</table>\n",
       "<p>204 rows × 4 columns</p>\n",
       "</div>"
      ],
      "text/plain": [
       "     Rank                   Country  % of GDP Date of Information\n",
       "0       1           Solomon Islands     20.27           2018 est.\n",
       "1       2                   Liberia     13.27           2018 est.\n",
       "2       3                   Burundi     10.31           2018 est.\n",
       "3       4             Guinea-Bissau      9.24           2018 est.\n",
       "4       5  Central African Republic      8.99           2018 est.\n",
       "..    ...                       ...       ...                 ...\n",
       "199   200                      Guam      0.00           2018 est.\n",
       "200   201             Faroe Islands      0.00           2017 est.\n",
       "201   202                     Aruba      0.00           2017 est.\n",
       "202   203            Virgin Islands      0.00           2017 est.\n",
       "203   204                     Macau      0.00           2018 est.\n",
       "\n",
       "[204 rows x 4 columns]"
      ]
     },
     "execution_count": 7,
     "metadata": {},
     "output_type": "execute_result"
    }
   ],
   "source": [
    "# here it is\n",
    "forest"
   ]
  },
  {
   "cell_type": "code",
   "execution_count": 8,
   "metadata": {},
   "outputs": [
    {
     "data": {
      "text/plain": [
       "Index(['Rank', 'Country', '% of GDP', 'Date of Information'], dtype='object')"
      ]
     },
     "execution_count": 8,
     "metadata": {},
     "output_type": "execute_result"
    }
   ],
   "source": [
    "# see column names:\n",
    "\n",
    "forest.columns"
   ]
  },
  {
   "cell_type": "code",
   "execution_count": 9,
   "metadata": {},
   "outputs": [
    {
     "data": {
      "text/plain": [
       "['Rank', 'Country', '% of GDP', 'Date of Information']"
      ]
     },
     "execution_count": 9,
     "metadata": {},
     "output_type": "execute_result"
    }
   ],
   "source": [
    "# or\n",
    "\n",
    "forest.columns.to_list()"
   ]
  },
  {
   "cell_type": "code",
   "execution_count": 10,
   "metadata": {},
   "outputs": [
    {
     "data": {
      "text/plain": [
       "Date of Information\n",
       "2018 est.    195\n",
       "2017 est.      7\n",
       "2015 est.      1\n",
       "2016 est.      1\n",
       "Name: count, dtype: int64"
      ]
     },
     "execution_count": 10,
     "metadata": {},
     "output_type": "execute_result"
    }
   ],
   "source": [
    "forest['Date of Information'].value_counts()"
   ]
  },
  {
   "cell_type": "markdown",
   "metadata": {},
   "source": [
    "Complete the tasks requested:\n",
    "\n",
    "1. Replace '%' by 'pct'.\n",
    "    * Tip: use [replace](https://pandas.pydata.org/docs/reference/api/pandas.Series.replace.html).\n",
    "2. Keep the columns _Country_, _pct of GDP_, and *Date of Information*.\n",
    "    * Tip: use [drop](https://pandas.pydata.org/docs/reference/api/pandas.DataFrame.drop.html), [loc](https://pandas.pydata.org/docs/reference/api/pandas.DataFrame.loc.html), and [iloc](https://pandas.pydata.org/docs/reference/api/pandas.DataFrame.iloc.html) for the same purpose (three ways to accomplish the task).\n",
    "3. Change the column name *Date of Information* to *forest_date*.\n",
    "    * Tip: Use [rename](https://pandas.pydata.org/docs/reference/api/pandas.DataFrame.rename.html).\n",
    "4. Make sure there are no spaces as part of the column names.\n",
    "    * Tip: use [replace](https://pandas.pydata.org/docs/reference/api/pandas.Series.replace.html).\n",
    "5. Make sure the cells with text does not have neither trailing nor leading spaces.\n",
    "    * Tip: use [strip](https://pandas.pydata.org/docs/reference/api/pandas.Series.str.strip.html).\n",
    "6. Keep only the year value in the column *forest_date*.\n",
    "    * Tip: use [extract](https://pandas.pydata.org/docs/reference/api/pandas.Series.str.extract.html).\n",
    "\n",
    "When all tasks are done, save the cleaned file inside your **data** folder:\n"
   ]
  },
  {
   "cell_type": "code",
   "execution_count": 11,
   "metadata": {},
   "outputs": [],
   "source": [
    "# import os\n",
    "\n",
    "# forestCleaned.to_csv(os.path.join(\"data\",\"forestCleaned.csv\"),index=False)"
   ]
  },
  {
   "cell_type": "code",
   "execution_count": 12,
   "metadata": {
    "scrolled": true
   },
   "outputs": [
    {
     "data": {
      "text/html": [
       "<div>\n",
       "<style scoped>\n",
       "    .dataframe tbody tr th:only-of-type {\n",
       "        vertical-align: middle;\n",
       "    }\n",
       "\n",
       "    .dataframe tbody tr th {\n",
       "        vertical-align: top;\n",
       "    }\n",
       "\n",
       "    .dataframe thead th {\n",
       "        text-align: right;\n",
       "    }\n",
       "</style>\n",
       "<table border=\"1\" class=\"dataframe\">\n",
       "  <thead>\n",
       "    <tr style=\"text-align: right;\">\n",
       "      <th></th>\n",
       "      <th>Rank</th>\n",
       "      <th>Country</th>\n",
       "      <th>pct of GDP</th>\n",
       "      <th>Date of Information</th>\n",
       "    </tr>\n",
       "  </thead>\n",
       "  <tbody>\n",
       "    <tr>\n",
       "      <th>0</th>\n",
       "      <td>1</td>\n",
       "      <td>Solomon Islands</td>\n",
       "      <td>20.27</td>\n",
       "      <td>2018 est.</td>\n",
       "    </tr>\n",
       "    <tr>\n",
       "      <th>1</th>\n",
       "      <td>2</td>\n",
       "      <td>Liberia</td>\n",
       "      <td>13.27</td>\n",
       "      <td>2018 est.</td>\n",
       "    </tr>\n",
       "    <tr>\n",
       "      <th>2</th>\n",
       "      <td>3</td>\n",
       "      <td>Burundi</td>\n",
       "      <td>10.31</td>\n",
       "      <td>2018 est.</td>\n",
       "    </tr>\n",
       "    <tr>\n",
       "      <th>3</th>\n",
       "      <td>4</td>\n",
       "      <td>Guinea-Bissau</td>\n",
       "      <td>9.24</td>\n",
       "      <td>2018 est.</td>\n",
       "    </tr>\n",
       "    <tr>\n",
       "      <th>4</th>\n",
       "      <td>5</td>\n",
       "      <td>Central African Republic</td>\n",
       "      <td>8.99</td>\n",
       "      <td>2018 est.</td>\n",
       "    </tr>\n",
       "    <tr>\n",
       "      <th>...</th>\n",
       "      <td>...</td>\n",
       "      <td>...</td>\n",
       "      <td>...</td>\n",
       "      <td>...</td>\n",
       "    </tr>\n",
       "    <tr>\n",
       "      <th>199</th>\n",
       "      <td>200</td>\n",
       "      <td>Guam</td>\n",
       "      <td>0.00</td>\n",
       "      <td>2018 est.</td>\n",
       "    </tr>\n",
       "    <tr>\n",
       "      <th>200</th>\n",
       "      <td>201</td>\n",
       "      <td>Faroe Islands</td>\n",
       "      <td>0.00</td>\n",
       "      <td>2017 est.</td>\n",
       "    </tr>\n",
       "    <tr>\n",
       "      <th>201</th>\n",
       "      <td>202</td>\n",
       "      <td>Aruba</td>\n",
       "      <td>0.00</td>\n",
       "      <td>2017 est.</td>\n",
       "    </tr>\n",
       "    <tr>\n",
       "      <th>202</th>\n",
       "      <td>203</td>\n",
       "      <td>Virgin Islands</td>\n",
       "      <td>0.00</td>\n",
       "      <td>2017 est.</td>\n",
       "    </tr>\n",
       "    <tr>\n",
       "      <th>203</th>\n",
       "      <td>204</td>\n",
       "      <td>Macau</td>\n",
       "      <td>0.00</td>\n",
       "      <td>2018 est.</td>\n",
       "    </tr>\n",
       "  </tbody>\n",
       "</table>\n",
       "<p>204 rows × 4 columns</p>\n",
       "</div>"
      ],
      "text/plain": [
       "     Rank                   Country  pct of GDP Date of Information\n",
       "0       1           Solomon Islands       20.27           2018 est.\n",
       "1       2                   Liberia       13.27           2018 est.\n",
       "2       3                   Burundi       10.31           2018 est.\n",
       "3       4             Guinea-Bissau        9.24           2018 est.\n",
       "4       5  Central African Republic        8.99           2018 est.\n",
       "..    ...                       ...         ...                 ...\n",
       "199   200                      Guam        0.00           2018 est.\n",
       "200   201             Faroe Islands        0.00           2017 est.\n",
       "201   202                     Aruba        0.00           2017 est.\n",
       "202   203            Virgin Islands        0.00           2017 est.\n",
       "203   204                     Macau        0.00           2018 est.\n",
       "\n",
       "[204 rows x 4 columns]"
      ]
     },
     "execution_count": 12,
     "metadata": {},
     "output_type": "execute_result"
    }
   ],
   "source": [
    "forest1=forest.copy()\n",
    "forest1.rename(columns={\"% of GDP\":\"pct of GDP\"},inplace=True)\n",
    "forest1\n",
    "#carbon1.rename(columns={\"date_of_information\":\"carbon_date\"},inplace=True)"
   ]
  },
  {
   "cell_type": "code",
   "execution_count": 13,
   "metadata": {},
   "outputs": [
    {
     "data": {
      "text/html": [
       "<div>\n",
       "<style scoped>\n",
       "    .dataframe tbody tr th:only-of-type {\n",
       "        vertical-align: middle;\n",
       "    }\n",
       "\n",
       "    .dataframe tbody tr th {\n",
       "        vertical-align: top;\n",
       "    }\n",
       "\n",
       "    .dataframe thead th {\n",
       "        text-align: right;\n",
       "    }\n",
       "</style>\n",
       "<table border=\"1\" class=\"dataframe\">\n",
       "  <thead>\n",
       "    <tr style=\"text-align: right;\">\n",
       "      <th></th>\n",
       "      <th>Country</th>\n",
       "      <th>pct of GDP</th>\n",
       "      <th>Date of Information</th>\n",
       "    </tr>\n",
       "  </thead>\n",
       "  <tbody>\n",
       "    <tr>\n",
       "      <th>0</th>\n",
       "      <td>Solomon Islands</td>\n",
       "      <td>20.27</td>\n",
       "      <td>2018 est.</td>\n",
       "    </tr>\n",
       "    <tr>\n",
       "      <th>1</th>\n",
       "      <td>Liberia</td>\n",
       "      <td>13.27</td>\n",
       "      <td>2018 est.</td>\n",
       "    </tr>\n",
       "    <tr>\n",
       "      <th>2</th>\n",
       "      <td>Burundi</td>\n",
       "      <td>10.31</td>\n",
       "      <td>2018 est.</td>\n",
       "    </tr>\n",
       "    <tr>\n",
       "      <th>3</th>\n",
       "      <td>Guinea-Bissau</td>\n",
       "      <td>9.24</td>\n",
       "      <td>2018 est.</td>\n",
       "    </tr>\n",
       "    <tr>\n",
       "      <th>4</th>\n",
       "      <td>Central African Republic</td>\n",
       "      <td>8.99</td>\n",
       "      <td>2018 est.</td>\n",
       "    </tr>\n",
       "    <tr>\n",
       "      <th>...</th>\n",
       "      <td>...</td>\n",
       "      <td>...</td>\n",
       "      <td>...</td>\n",
       "    </tr>\n",
       "    <tr>\n",
       "      <th>199</th>\n",
       "      <td>Guam</td>\n",
       "      <td>0.00</td>\n",
       "      <td>2018 est.</td>\n",
       "    </tr>\n",
       "    <tr>\n",
       "      <th>200</th>\n",
       "      <td>Faroe Islands</td>\n",
       "      <td>0.00</td>\n",
       "      <td>2017 est.</td>\n",
       "    </tr>\n",
       "    <tr>\n",
       "      <th>201</th>\n",
       "      <td>Aruba</td>\n",
       "      <td>0.00</td>\n",
       "      <td>2017 est.</td>\n",
       "    </tr>\n",
       "    <tr>\n",
       "      <th>202</th>\n",
       "      <td>Virgin Islands</td>\n",
       "      <td>0.00</td>\n",
       "      <td>2017 est.</td>\n",
       "    </tr>\n",
       "    <tr>\n",
       "      <th>203</th>\n",
       "      <td>Macau</td>\n",
       "      <td>0.00</td>\n",
       "      <td>2018 est.</td>\n",
       "    </tr>\n",
       "  </tbody>\n",
       "</table>\n",
       "<p>204 rows × 3 columns</p>\n",
       "</div>"
      ],
      "text/plain": [
       "                      Country  pct of GDP Date of Information\n",
       "0             Solomon Islands       20.27           2018 est.\n",
       "1                     Liberia       13.27           2018 est.\n",
       "2                     Burundi       10.31           2018 est.\n",
       "3               Guinea-Bissau        9.24           2018 est.\n",
       "4    Central African Republic        8.99           2018 est.\n",
       "..                        ...         ...                 ...\n",
       "199                      Guam        0.00           2018 est.\n",
       "200             Faroe Islands        0.00           2017 est.\n",
       "201                     Aruba        0.00           2017 est.\n",
       "202            Virgin Islands        0.00           2017 est.\n",
       "203                     Macau        0.00           2018 est.\n",
       "\n",
       "[204 rows x 3 columns]"
      ]
     },
     "execution_count": 13,
     "metadata": {},
     "output_type": "execute_result"
    }
   ],
   "source": [
    "forest2=forest1.copy()\n",
    "byeColumn=['Rank']\n",
    "forest2.drop(columns=byeColumn,inplace=True)\n",
    "forest2\n",
    "#carbon1=carbon.copy()\n",
    "#carbon1.drop(columns=[\"slug\"],inplace=True)\n",
    "#carbon1"
   ]
  },
  {
   "cell_type": "code",
   "execution_count": 14,
   "metadata": {},
   "outputs": [
    {
     "data": {
      "text/html": [
       "<div>\n",
       "<style scoped>\n",
       "    .dataframe tbody tr th:only-of-type {\n",
       "        vertical-align: middle;\n",
       "    }\n",
       "\n",
       "    .dataframe tbody tr th {\n",
       "        vertical-align: top;\n",
       "    }\n",
       "\n",
       "    .dataframe thead th {\n",
       "        text-align: right;\n",
       "    }\n",
       "</style>\n",
       "<table border=\"1\" class=\"dataframe\">\n",
       "  <thead>\n",
       "    <tr style=\"text-align: right;\">\n",
       "      <th></th>\n",
       "      <th>Country</th>\n",
       "      <th>pct of GDP</th>\n",
       "      <th>forest_date</th>\n",
       "    </tr>\n",
       "  </thead>\n",
       "  <tbody>\n",
       "    <tr>\n",
       "      <th>0</th>\n",
       "      <td>Solomon Islands</td>\n",
       "      <td>20.27</td>\n",
       "      <td>2018 est.</td>\n",
       "    </tr>\n",
       "    <tr>\n",
       "      <th>1</th>\n",
       "      <td>Liberia</td>\n",
       "      <td>13.27</td>\n",
       "      <td>2018 est.</td>\n",
       "    </tr>\n",
       "    <tr>\n",
       "      <th>2</th>\n",
       "      <td>Burundi</td>\n",
       "      <td>10.31</td>\n",
       "      <td>2018 est.</td>\n",
       "    </tr>\n",
       "    <tr>\n",
       "      <th>3</th>\n",
       "      <td>Guinea-Bissau</td>\n",
       "      <td>9.24</td>\n",
       "      <td>2018 est.</td>\n",
       "    </tr>\n",
       "    <tr>\n",
       "      <th>4</th>\n",
       "      <td>Central African Republic</td>\n",
       "      <td>8.99</td>\n",
       "      <td>2018 est.</td>\n",
       "    </tr>\n",
       "    <tr>\n",
       "      <th>...</th>\n",
       "      <td>...</td>\n",
       "      <td>...</td>\n",
       "      <td>...</td>\n",
       "    </tr>\n",
       "    <tr>\n",
       "      <th>199</th>\n",
       "      <td>Guam</td>\n",
       "      <td>0.00</td>\n",
       "      <td>2018 est.</td>\n",
       "    </tr>\n",
       "    <tr>\n",
       "      <th>200</th>\n",
       "      <td>Faroe Islands</td>\n",
       "      <td>0.00</td>\n",
       "      <td>2017 est.</td>\n",
       "    </tr>\n",
       "    <tr>\n",
       "      <th>201</th>\n",
       "      <td>Aruba</td>\n",
       "      <td>0.00</td>\n",
       "      <td>2017 est.</td>\n",
       "    </tr>\n",
       "    <tr>\n",
       "      <th>202</th>\n",
       "      <td>Virgin Islands</td>\n",
       "      <td>0.00</td>\n",
       "      <td>2017 est.</td>\n",
       "    </tr>\n",
       "    <tr>\n",
       "      <th>203</th>\n",
       "      <td>Macau</td>\n",
       "      <td>0.00</td>\n",
       "      <td>2018 est.</td>\n",
       "    </tr>\n",
       "  </tbody>\n",
       "</table>\n",
       "<p>204 rows × 3 columns</p>\n",
       "</div>"
      ],
      "text/plain": [
       "                      Country  pct of GDP forest_date\n",
       "0             Solomon Islands       20.27   2018 est.\n",
       "1                     Liberia       13.27   2018 est.\n",
       "2                     Burundi       10.31   2018 est.\n",
       "3               Guinea-Bissau        9.24   2018 est.\n",
       "4    Central African Republic        8.99   2018 est.\n",
       "..                        ...         ...         ...\n",
       "199                      Guam        0.00   2018 est.\n",
       "200             Faroe Islands        0.00   2017 est.\n",
       "201                     Aruba        0.00   2017 est.\n",
       "202            Virgin Islands        0.00   2017 est.\n",
       "203                     Macau        0.00   2018 est.\n",
       "\n",
       "[204 rows x 3 columns]"
      ]
     },
     "execution_count": 14,
     "metadata": {},
     "output_type": "execute_result"
    }
   ],
   "source": [
    "forest2.rename(columns={\"Date of Information\":\"forest_date\"},inplace=True)\n",
    "forest2\n",
    "#carbon1.rename(columns={\"date_of_information\":\"carbon_date\"},inplace=True)\n",
    "#carbon1"
   ]
  },
  {
   "cell_type": "code",
   "execution_count": 15,
   "metadata": {},
   "outputs": [
    {
     "data": {
      "text/html": [
       "<div>\n",
       "<style scoped>\n",
       "    .dataframe tbody tr th:only-of-type {\n",
       "        vertical-align: middle;\n",
       "    }\n",
       "\n",
       "    .dataframe tbody tr th {\n",
       "        vertical-align: top;\n",
       "    }\n",
       "\n",
       "    .dataframe thead th {\n",
       "        text-align: right;\n",
       "    }\n",
       "</style>\n",
       "<table border=\"1\" class=\"dataframe\">\n",
       "  <thead>\n",
       "    <tr style=\"text-align: right;\">\n",
       "      <th></th>\n",
       "      <th>Country</th>\n",
       "      <th>pct of GDP</th>\n",
       "      <th>forest_date</th>\n",
       "    </tr>\n",
       "  </thead>\n",
       "  <tbody>\n",
       "    <tr>\n",
       "      <th>0</th>\n",
       "      <td>Solomon Islands</td>\n",
       "      <td>20.27</td>\n",
       "      <td>2018 est.</td>\n",
       "    </tr>\n",
       "    <tr>\n",
       "      <th>1</th>\n",
       "      <td>Liberia</td>\n",
       "      <td>13.27</td>\n",
       "      <td>2018 est.</td>\n",
       "    </tr>\n",
       "    <tr>\n",
       "      <th>2</th>\n",
       "      <td>Burundi</td>\n",
       "      <td>10.31</td>\n",
       "      <td>2018 est.</td>\n",
       "    </tr>\n",
       "    <tr>\n",
       "      <th>3</th>\n",
       "      <td>Guinea-Bissau</td>\n",
       "      <td>9.24</td>\n",
       "      <td>2018 est.</td>\n",
       "    </tr>\n",
       "    <tr>\n",
       "      <th>4</th>\n",
       "      <td>Central African Republic</td>\n",
       "      <td>8.99</td>\n",
       "      <td>2018 est.</td>\n",
       "    </tr>\n",
       "    <tr>\n",
       "      <th>...</th>\n",
       "      <td>...</td>\n",
       "      <td>...</td>\n",
       "      <td>...</td>\n",
       "    </tr>\n",
       "    <tr>\n",
       "      <th>199</th>\n",
       "      <td>Guam</td>\n",
       "      <td>0.00</td>\n",
       "      <td>2018 est.</td>\n",
       "    </tr>\n",
       "    <tr>\n",
       "      <th>200</th>\n",
       "      <td>Faroe Islands</td>\n",
       "      <td>0.00</td>\n",
       "      <td>2017 est.</td>\n",
       "    </tr>\n",
       "    <tr>\n",
       "      <th>201</th>\n",
       "      <td>Aruba</td>\n",
       "      <td>0.00</td>\n",
       "      <td>2017 est.</td>\n",
       "    </tr>\n",
       "    <tr>\n",
       "      <th>202</th>\n",
       "      <td>Virgin Islands</td>\n",
       "      <td>0.00</td>\n",
       "      <td>2017 est.</td>\n",
       "    </tr>\n",
       "    <tr>\n",
       "      <th>203</th>\n",
       "      <td>Macau</td>\n",
       "      <td>0.00</td>\n",
       "      <td>2018 est.</td>\n",
       "    </tr>\n",
       "  </tbody>\n",
       "</table>\n",
       "<p>204 rows × 3 columns</p>\n",
       "</div>"
      ],
      "text/plain": [
       "                      Country  pct of GDP forest_date\n",
       "0             Solomon Islands       20.27   2018 est.\n",
       "1                     Liberia       13.27   2018 est.\n",
       "2                     Burundi       10.31   2018 est.\n",
       "3               Guinea-Bissau        9.24   2018 est.\n",
       "4    Central African Republic        8.99   2018 est.\n",
       "..                        ...         ...         ...\n",
       "199                      Guam        0.00   2018 est.\n",
       "200             Faroe Islands        0.00   2017 est.\n",
       "201                     Aruba        0.00   2017 est.\n",
       "202            Virgin Islands        0.00   2017 est.\n",
       "203                     Macau        0.00   2018 est.\n",
       "\n",
       "[204 rows x 3 columns]"
      ]
     },
     "execution_count": 15,
     "metadata": {},
     "output_type": "execute_result"
    }
   ],
   "source": [
    "forest3=forest2.copy()\n",
    "forest3.Country.str.replace(pat=r'\\s',repl='',regex=True)\n",
    "forest3\n",
    "#carbon3=carbon1.name.str.replace(pat=r' \\D',repl='',regex=True)\n",
    "#carbon3"
   ]
  },
  {
   "cell_type": "code",
   "execution_count": 16,
   "metadata": {},
   "outputs": [
    {
     "data": {
      "text/html": [
       "<div>\n",
       "<style scoped>\n",
       "    .dataframe tbody tr th:only-of-type {\n",
       "        vertical-align: middle;\n",
       "    }\n",
       "\n",
       "    .dataframe tbody tr th {\n",
       "        vertical-align: top;\n",
       "    }\n",
       "\n",
       "    .dataframe thead th {\n",
       "        text-align: right;\n",
       "    }\n",
       "</style>\n",
       "<table border=\"1\" class=\"dataframe\">\n",
       "  <thead>\n",
       "    <tr style=\"text-align: right;\">\n",
       "      <th></th>\n",
       "      <th>Country</th>\n",
       "      <th>pct of GDP</th>\n",
       "      <th>forest_date</th>\n",
       "    </tr>\n",
       "  </thead>\n",
       "  <tbody>\n",
       "    <tr>\n",
       "      <th>0</th>\n",
       "      <td>Solomon Islands</td>\n",
       "      <td>20.27</td>\n",
       "      <td>2018 est.</td>\n",
       "    </tr>\n",
       "    <tr>\n",
       "      <th>1</th>\n",
       "      <td>Liberia</td>\n",
       "      <td>13.27</td>\n",
       "      <td>2018 est.</td>\n",
       "    </tr>\n",
       "    <tr>\n",
       "      <th>2</th>\n",
       "      <td>Burundi</td>\n",
       "      <td>10.31</td>\n",
       "      <td>2018 est.</td>\n",
       "    </tr>\n",
       "    <tr>\n",
       "      <th>3</th>\n",
       "      <td>Guinea-Bissau</td>\n",
       "      <td>9.24</td>\n",
       "      <td>2018 est.</td>\n",
       "    </tr>\n",
       "    <tr>\n",
       "      <th>4</th>\n",
       "      <td>Central African Republic</td>\n",
       "      <td>8.99</td>\n",
       "      <td>2018 est.</td>\n",
       "    </tr>\n",
       "    <tr>\n",
       "      <th>...</th>\n",
       "      <td>...</td>\n",
       "      <td>...</td>\n",
       "      <td>...</td>\n",
       "    </tr>\n",
       "    <tr>\n",
       "      <th>199</th>\n",
       "      <td>Guam</td>\n",
       "      <td>0.00</td>\n",
       "      <td>2018 est.</td>\n",
       "    </tr>\n",
       "    <tr>\n",
       "      <th>200</th>\n",
       "      <td>Faroe Islands</td>\n",
       "      <td>0.00</td>\n",
       "      <td>2017 est.</td>\n",
       "    </tr>\n",
       "    <tr>\n",
       "      <th>201</th>\n",
       "      <td>Aruba</td>\n",
       "      <td>0.00</td>\n",
       "      <td>2017 est.</td>\n",
       "    </tr>\n",
       "    <tr>\n",
       "      <th>202</th>\n",
       "      <td>Virgin Islands</td>\n",
       "      <td>0.00</td>\n",
       "      <td>2017 est.</td>\n",
       "    </tr>\n",
       "    <tr>\n",
       "      <th>203</th>\n",
       "      <td>Macau</td>\n",
       "      <td>0.00</td>\n",
       "      <td>2018 est.</td>\n",
       "    </tr>\n",
       "  </tbody>\n",
       "</table>\n",
       "<p>204 rows × 3 columns</p>\n",
       "</div>"
      ],
      "text/plain": [
       "                      Country  pct of GDP forest_date\n",
       "0             Solomon Islands       20.27   2018 est.\n",
       "1                     Liberia       13.27   2018 est.\n",
       "2                     Burundi       10.31   2018 est.\n",
       "3               Guinea-Bissau        9.24   2018 est.\n",
       "4    Central African Republic        8.99   2018 est.\n",
       "..                        ...         ...         ...\n",
       "199                      Guam        0.00   2018 est.\n",
       "200             Faroe Islands        0.00   2017 est.\n",
       "201                     Aruba        0.00   2017 est.\n",
       "202            Virgin Islands        0.00   2017 est.\n",
       "203                     Macau        0.00   2018 est.\n",
       "\n",
       "[204 rows x 3 columns]"
      ]
     },
     "execution_count": 16,
     "metadata": {},
     "output_type": "execute_result"
    }
   ],
   "source": [
    "forest4 = forest3.copy()\n",
    "forest4.Country.str.strip()\n",
    "forest4\n",
    "#carbon1.name.str.strip() \n",
    "#carbon1"
   ]
  },
  {
   "cell_type": "code",
   "execution_count": 17,
   "metadata": {},
   "outputs": [
    {
     "data": {
      "text/html": [
       "<div>\n",
       "<style scoped>\n",
       "    .dataframe tbody tr th:only-of-type {\n",
       "        vertical-align: middle;\n",
       "    }\n",
       "\n",
       "    .dataframe tbody tr th {\n",
       "        vertical-align: top;\n",
       "    }\n",
       "\n",
       "    .dataframe thead th {\n",
       "        text-align: right;\n",
       "    }\n",
       "</style>\n",
       "<table border=\"1\" class=\"dataframe\">\n",
       "  <thead>\n",
       "    <tr style=\"text-align: right;\">\n",
       "      <th></th>\n",
       "      <th>Country</th>\n",
       "      <th>pct of GDP</th>\n",
       "      <th>forest_date</th>\n",
       "    </tr>\n",
       "  </thead>\n",
       "  <tbody>\n",
       "    <tr>\n",
       "      <th>0</th>\n",
       "      <td>Solomon Islands</td>\n",
       "      <td>20.27</td>\n",
       "      <td>2018 est.</td>\n",
       "    </tr>\n",
       "    <tr>\n",
       "      <th>1</th>\n",
       "      <td>Liberia</td>\n",
       "      <td>13.27</td>\n",
       "      <td>2018 est.</td>\n",
       "    </tr>\n",
       "    <tr>\n",
       "      <th>2</th>\n",
       "      <td>Burundi</td>\n",
       "      <td>10.31</td>\n",
       "      <td>2018 est.</td>\n",
       "    </tr>\n",
       "    <tr>\n",
       "      <th>3</th>\n",
       "      <td>Guinea-Bissau</td>\n",
       "      <td>9.24</td>\n",
       "      <td>2018 est.</td>\n",
       "    </tr>\n",
       "    <tr>\n",
       "      <th>4</th>\n",
       "      <td>Central African Republic</td>\n",
       "      <td>8.99</td>\n",
       "      <td>2018 est.</td>\n",
       "    </tr>\n",
       "    <tr>\n",
       "      <th>...</th>\n",
       "      <td>...</td>\n",
       "      <td>...</td>\n",
       "      <td>...</td>\n",
       "    </tr>\n",
       "    <tr>\n",
       "      <th>199</th>\n",
       "      <td>Guam</td>\n",
       "      <td>0.00</td>\n",
       "      <td>2018 est.</td>\n",
       "    </tr>\n",
       "    <tr>\n",
       "      <th>200</th>\n",
       "      <td>Faroe Islands</td>\n",
       "      <td>0.00</td>\n",
       "      <td>2017 est.</td>\n",
       "    </tr>\n",
       "    <tr>\n",
       "      <th>201</th>\n",
       "      <td>Aruba</td>\n",
       "      <td>0.00</td>\n",
       "      <td>2017 est.</td>\n",
       "    </tr>\n",
       "    <tr>\n",
       "      <th>202</th>\n",
       "      <td>Virgin Islands</td>\n",
       "      <td>0.00</td>\n",
       "      <td>2017 est.</td>\n",
       "    </tr>\n",
       "    <tr>\n",
       "      <th>203</th>\n",
       "      <td>Macau</td>\n",
       "      <td>0.00</td>\n",
       "      <td>2018 est.</td>\n",
       "    </tr>\n",
       "  </tbody>\n",
       "</table>\n",
       "<p>204 rows × 3 columns</p>\n",
       "</div>"
      ],
      "text/plain": [
       "                      Country  pct of GDP forest_date\n",
       "0             Solomon Islands       20.27   2018 est.\n",
       "1                     Liberia       13.27   2018 est.\n",
       "2                     Burundi       10.31   2018 est.\n",
       "3               Guinea-Bissau        9.24   2018 est.\n",
       "4    Central African Republic        8.99   2018 est.\n",
       "..                        ...         ...         ...\n",
       "199                      Guam        0.00   2018 est.\n",
       "200             Faroe Islands        0.00   2017 est.\n",
       "201                     Aruba        0.00   2017 est.\n",
       "202            Virgin Islands        0.00   2017 est.\n",
       "203                     Macau        0.00   2018 est.\n",
       "\n",
       "[204 rows x 3 columns]"
      ]
     },
     "execution_count": 17,
     "metadata": {},
     "output_type": "execute_result"
    }
   ],
   "source": [
    "forest5 = forest4.copy()\n",
    "forest5.forest_date.str.strip()\n",
    "forest5"
   ]
  },
  {
   "cell_type": "code",
   "execution_count": 18,
   "metadata": {},
   "outputs": [
    {
     "data": {
      "text/html": [
       "<div>\n",
       "<style scoped>\n",
       "    .dataframe tbody tr th:only-of-type {\n",
       "        vertical-align: middle;\n",
       "    }\n",
       "\n",
       "    .dataframe tbody tr th {\n",
       "        vertical-align: top;\n",
       "    }\n",
       "\n",
       "    .dataframe thead th {\n",
       "        text-align: right;\n",
       "    }\n",
       "</style>\n",
       "<table border=\"1\" class=\"dataframe\">\n",
       "  <thead>\n",
       "    <tr style=\"text-align: right;\">\n",
       "      <th></th>\n",
       "      <th>Country</th>\n",
       "      <th>pct of GDP</th>\n",
       "      <th>forest_date</th>\n",
       "    </tr>\n",
       "  </thead>\n",
       "  <tbody>\n",
       "    <tr>\n",
       "      <th>0</th>\n",
       "      <td>Solomon Islands</td>\n",
       "      <td>20.27</td>\n",
       "      <td>2018 est.</td>\n",
       "    </tr>\n",
       "    <tr>\n",
       "      <th>1</th>\n",
       "      <td>Liberia</td>\n",
       "      <td>13.27</td>\n",
       "      <td>2018 est.</td>\n",
       "    </tr>\n",
       "    <tr>\n",
       "      <th>2</th>\n",
       "      <td>Burundi</td>\n",
       "      <td>10.31</td>\n",
       "      <td>2018 est.</td>\n",
       "    </tr>\n",
       "    <tr>\n",
       "      <th>3</th>\n",
       "      <td>Guinea-Bissau</td>\n",
       "      <td>9.24</td>\n",
       "      <td>2018 est.</td>\n",
       "    </tr>\n",
       "    <tr>\n",
       "      <th>4</th>\n",
       "      <td>Central African Republic</td>\n",
       "      <td>8.99</td>\n",
       "      <td>2018 est.</td>\n",
       "    </tr>\n",
       "    <tr>\n",
       "      <th>...</th>\n",
       "      <td>...</td>\n",
       "      <td>...</td>\n",
       "      <td>...</td>\n",
       "    </tr>\n",
       "    <tr>\n",
       "      <th>199</th>\n",
       "      <td>Guam</td>\n",
       "      <td>0.00</td>\n",
       "      <td>2018 est.</td>\n",
       "    </tr>\n",
       "    <tr>\n",
       "      <th>200</th>\n",
       "      <td>Faroe Islands</td>\n",
       "      <td>0.00</td>\n",
       "      <td>2017 est.</td>\n",
       "    </tr>\n",
       "    <tr>\n",
       "      <th>201</th>\n",
       "      <td>Aruba</td>\n",
       "      <td>0.00</td>\n",
       "      <td>2017 est.</td>\n",
       "    </tr>\n",
       "    <tr>\n",
       "      <th>202</th>\n",
       "      <td>Virgin Islands</td>\n",
       "      <td>0.00</td>\n",
       "      <td>2017 est.</td>\n",
       "    </tr>\n",
       "    <tr>\n",
       "      <th>203</th>\n",
       "      <td>Macau</td>\n",
       "      <td>0.00</td>\n",
       "      <td>2018 est.</td>\n",
       "    </tr>\n",
       "  </tbody>\n",
       "</table>\n",
       "<p>204 rows × 3 columns</p>\n",
       "</div>"
      ],
      "text/plain": [
       "                      Country  pct of GDP forest_date\n",
       "0             Solomon Islands       20.27   2018 est.\n",
       "1                     Liberia       13.27   2018 est.\n",
       "2                     Burundi       10.31   2018 est.\n",
       "3               Guinea-Bissau        9.24   2018 est.\n",
       "4    Central African Republic        8.99   2018 est.\n",
       "..                        ...         ...         ...\n",
       "199                      Guam        0.00   2018 est.\n",
       "200             Faroe Islands        0.00   2017 est.\n",
       "201                     Aruba        0.00   2017 est.\n",
       "202            Virgin Islands        0.00   2017 est.\n",
       "203                     Macau        0.00   2018 est.\n",
       "\n",
       "[204 rows x 3 columns]"
      ]
     },
     "execution_count": 18,
     "metadata": {},
     "output_type": "execute_result"
    }
   ],
   "source": [
    "forest6 = forest5.copy()\n",
    "forest6.forest_date.str.strip()\n",
    "forest6"
   ]
  },
  {
   "cell_type": "code",
   "execution_count": 19,
   "metadata": {},
   "outputs": [
    {
     "data": {
      "text/html": [
       "<div>\n",
       "<style scoped>\n",
       "    .dataframe tbody tr th:only-of-type {\n",
       "        vertical-align: middle;\n",
       "    }\n",
       "\n",
       "    .dataframe tbody tr th {\n",
       "        vertical-align: top;\n",
       "    }\n",
       "\n",
       "    .dataframe thead th {\n",
       "        text-align: right;\n",
       "    }\n",
       "</style>\n",
       "<table border=\"1\" class=\"dataframe\">\n",
       "  <thead>\n",
       "    <tr style=\"text-align: right;\">\n",
       "      <th></th>\n",
       "      <th>Country</th>\n",
       "      <th>pct of GDP</th>\n",
       "      <th>forest_date</th>\n",
       "    </tr>\n",
       "  </thead>\n",
       "  <tbody>\n",
       "    <tr>\n",
       "      <th>0</th>\n",
       "      <td>Solomon Islands</td>\n",
       "      <td>20.27</td>\n",
       "      <td>2018</td>\n",
       "    </tr>\n",
       "    <tr>\n",
       "      <th>1</th>\n",
       "      <td>Liberia</td>\n",
       "      <td>13.27</td>\n",
       "      <td>2018</td>\n",
       "    </tr>\n",
       "    <tr>\n",
       "      <th>2</th>\n",
       "      <td>Burundi</td>\n",
       "      <td>10.31</td>\n",
       "      <td>2018</td>\n",
       "    </tr>\n",
       "    <tr>\n",
       "      <th>3</th>\n",
       "      <td>Guinea-Bissau</td>\n",
       "      <td>9.24</td>\n",
       "      <td>2018</td>\n",
       "    </tr>\n",
       "    <tr>\n",
       "      <th>4</th>\n",
       "      <td>Central African Republic</td>\n",
       "      <td>8.99</td>\n",
       "      <td>2018</td>\n",
       "    </tr>\n",
       "    <tr>\n",
       "      <th>...</th>\n",
       "      <td>...</td>\n",
       "      <td>...</td>\n",
       "      <td>...</td>\n",
       "    </tr>\n",
       "    <tr>\n",
       "      <th>199</th>\n",
       "      <td>Guam</td>\n",
       "      <td>0.00</td>\n",
       "      <td>2018</td>\n",
       "    </tr>\n",
       "    <tr>\n",
       "      <th>200</th>\n",
       "      <td>Faroe Islands</td>\n",
       "      <td>0.00</td>\n",
       "      <td>2017</td>\n",
       "    </tr>\n",
       "    <tr>\n",
       "      <th>201</th>\n",
       "      <td>Aruba</td>\n",
       "      <td>0.00</td>\n",
       "      <td>2017</td>\n",
       "    </tr>\n",
       "    <tr>\n",
       "      <th>202</th>\n",
       "      <td>Virgin Islands</td>\n",
       "      <td>0.00</td>\n",
       "      <td>2017</td>\n",
       "    </tr>\n",
       "    <tr>\n",
       "      <th>203</th>\n",
       "      <td>Macau</td>\n",
       "      <td>0.00</td>\n",
       "      <td>2018</td>\n",
       "    </tr>\n",
       "  </tbody>\n",
       "</table>\n",
       "<p>204 rows × 3 columns</p>\n",
       "</div>"
      ],
      "text/plain": [
       "                      Country  pct of GDP forest_date\n",
       "0             Solomon Islands       20.27        2018\n",
       "1                     Liberia       13.27        2018\n",
       "2                     Burundi       10.31        2018\n",
       "3               Guinea-Bissau        9.24        2018\n",
       "4    Central African Republic        8.99        2018\n",
       "..                        ...         ...         ...\n",
       "199                      Guam        0.00        2018\n",
       "200             Faroe Islands        0.00        2017\n",
       "201                     Aruba        0.00        2017\n",
       "202            Virgin Islands        0.00        2017\n",
       "203                     Macau        0.00        2018\n",
       "\n",
       "[204 rows x 3 columns]"
      ]
     },
     "execution_count": 19,
     "metadata": {},
     "output_type": "execute_result"
    }
   ],
   "source": [
    "forest7=forest6.copy()\n",
    "forest7['forest_date']=forest7.forest_date.str.extract(pat=r'(^\\w+|.$)', expand=True)\n",
    "forest7\n",
    "#forest1.rename(columns={\"% of GDP\":\"pct of GDP\"},inplace=True)\n",
    "#someData.age.str.replace(pat=r'\\D',repl='',regex=True)\n",
    "#someData.age.str.replace(pat=r'\\d+[a-z]+',\n",
    "                         #repl='',\n",
    "                         #regex=True)\n",
    "#someData.age.str.replace(pat=r'\\D',repl='',regex=True)"
   ]
  },
  {
   "cell_type": "code",
   "execution_count": null,
   "metadata": {},
   "outputs": [],
   "source": []
  },
  {
   "cell_type": "code",
   "execution_count": null,
   "metadata": {},
   "outputs": [],
   "source": []
  }
 ],
 "metadata": {
  "anaconda-cloud": {
   "attach-environment": true,
   "summary": "test"
  },
  "hide_input": false,
  "kernelspec": {
   "display_name": "Python 3 (ipykernel)",
   "language": "python",
   "name": "python3"
  },
  "language_info": {
   "codemirror_mode": {
    "name": "ipython",
    "version": 3
   },
   "file_extension": ".py",
   "mimetype": "text/x-python",
   "name": "python",
   "nbconvert_exporter": "python",
   "pygments_lexer": "ipython3",
   "version": "3.11.4"
  },
  "toc-autonumbering": false
 },
 "nbformat": 4,
 "nbformat_minor": 4
}
